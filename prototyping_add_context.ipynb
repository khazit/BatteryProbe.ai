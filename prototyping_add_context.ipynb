{
 "cells": [
  {
   "cell_type": "code",
   "execution_count": 1,
   "metadata": {
    "cell_id": "00000-3a38d8a5-1b23-4084-b9a2-4ddddfe78905",
    "deepnote_cell_type": "code",
    "execution_millis": 14,
    "execution_start": 1607528127985,
    "output_cleared": false,
    "source_hash": "2f19d1f9"
   },
   "outputs": [],
   "source": [
    "%load_ext autoreload\n",
    "%autoreload 2"
   ]
  },
  {
   "cell_type": "code",
   "execution_count": 2,
   "metadata": {
    "cell_id": "00001-39bbd453-f8ab-4a3c-a073-cc0f7d80ff48",
    "deepnote_cell_type": "code",
    "execution_millis": 384,
    "execution_start": 1607528129222,
    "output_cleared": false,
    "source_hash": "60df598d"
   },
   "outputs": [],
   "source": [
    "from batteryprobe.data import create_data_loader\n",
    "from batteryprobe.loops import evaluate"
   ]
  },
  {
   "cell_type": "code",
   "execution_count": 3,
   "metadata": {
    "cell_id": "00002-28a22c91-ffd7-4a2f-b0cc-663f7f645502",
    "deepnote_cell_type": "code",
    "execution_millis": 8,
    "execution_start": 1607528130616,
    "output_cleared": false,
    "source_hash": "500e4ed"
   },
   "outputs": [],
   "source": [
    "import pandas as pd\n",
    "from torch.nn.utils.rnn import pad_packed_sequence"
   ]
  },
  {
   "cell_type": "code",
   "execution_count": 4,
   "metadata": {
    "cell_id": "00003-38825fed-d22f-40d0-b4ce-7a15f288164d",
    "deepnote_cell_type": "code",
    "execution_millis": 15,
    "execution_start": 1607528131144,
    "output_cleared": false,
    "source_hash": "fe27c6c8"
   },
   "outputs": [],
   "source": [
    "import logging\n",
    "logging.getLogger('matplotlib').setLevel(logging.ERROR)\n",
    "\n",
    "logger = logging.getLogger()\n",
    "logger.setLevel(logging.DEBUG)"
   ]
  },
  {
   "cell_type": "code",
   "execution_count": 5,
   "metadata": {
    "cell_id": "00004-327c0aca-995d-49b4-8ced-6301eee2df40",
    "deepnote_cell_type": "code",
    "execution_millis": 891,
    "execution_start": 1607528131646,
    "output_cleared": false,
    "source_hash": "5ee32b82"
   },
   "outputs": [
    {
     "data": {
      "text/html": [
       "<div>\n",
       "<style scoped>\n",
       "    .dataframe tbody tr th:only-of-type {\n",
       "        vertical-align: middle;\n",
       "    }\n",
       "\n",
       "    .dataframe tbody tr th {\n",
       "        vertical-align: top;\n",
       "    }\n",
       "\n",
       "    .dataframe thead th {\n",
       "        text-align: right;\n",
       "    }\n",
       "</style>\n",
       "<table border=\"1\" class=\"dataframe\">\n",
       "  <thead>\n",
       "    <tr style=\"text-align: right;\">\n",
       "      <th></th>\n",
       "      <th>Unnamed: 0</th>\n",
       "      <th>time</th>\n",
       "      <th>battery_status</th>\n",
       "      <th>manufacturer</th>\n",
       "      <th>os</th>\n",
       "      <th>uuid</th>\n",
       "      <th>charge_full</th>\n",
       "      <th>mean_fans_rpm</th>\n",
       "      <th>current_now</th>\n",
       "      <th>voltage_min_design</th>\n",
       "      <th>...</th>\n",
       "      <th>battery_temp</th>\n",
       "      <th>cpu_temp</th>\n",
       "      <th>swap_load</th>\n",
       "      <th>fans_rpm</th>\n",
       "      <th>ram_load</th>\n",
       "      <th>number_of_fans</th>\n",
       "      <th>capacity</th>\n",
       "      <th>charge_full_design</th>\n",
       "      <th>charge_now</th>\n",
       "      <th>load_average_15</th>\n",
       "    </tr>\n",
       "  </thead>\n",
       "  <tbody>\n",
       "    <tr>\n",
       "      <th>0</th>\n",
       "      <td>0</td>\n",
       "      <td>1.601834e+09</td>\n",
       "      <td>Charging</td>\n",
       "      <td>SWD</td>\n",
       "      <td>macos</td>\n",
       "      <td>13370f11455f4f36a0680b9725189375</td>\n",
       "      <td>4089.0</td>\n",
       "      <td>0.0</td>\n",
       "      <td>2053.0</td>\n",
       "      <td>NaN</td>\n",
       "      <td>...</td>\n",
       "      <td>40.00</td>\n",
       "      <td>55.63</td>\n",
       "      <td>NaN</td>\n",
       "      <td>NaN</td>\n",
       "      <td>NaN</td>\n",
       "      <td>2.0</td>\n",
       "      <td>NaN</td>\n",
       "      <td>5088.0</td>\n",
       "      <td>3289.0</td>\n",
       "      <td>2.63</td>\n",
       "    </tr>\n",
       "    <tr>\n",
       "      <th>5</th>\n",
       "      <td>5</td>\n",
       "      <td>1.601834e+09</td>\n",
       "      <td>Charging</td>\n",
       "      <td>SWD</td>\n",
       "      <td>macos</td>\n",
       "      <td>13370f11455f4f36a0680b9725189375</td>\n",
       "      <td>4089.0</td>\n",
       "      <td>0.0</td>\n",
       "      <td>1863.0</td>\n",
       "      <td>NaN</td>\n",
       "      <td>...</td>\n",
       "      <td>40.09</td>\n",
       "      <td>58.56</td>\n",
       "      <td>NaN</td>\n",
       "      <td>NaN</td>\n",
       "      <td>NaN</td>\n",
       "      <td>2.0</td>\n",
       "      <td>NaN</td>\n",
       "      <td>5088.0</td>\n",
       "      <td>3354.0</td>\n",
       "      <td>2.69</td>\n",
       "    </tr>\n",
       "    <tr>\n",
       "      <th>10</th>\n",
       "      <td>10</td>\n",
       "      <td>1.601834e+09</td>\n",
       "      <td>Full</td>\n",
       "      <td>BYD</td>\n",
       "      <td>linux</td>\n",
       "      <td>5fbc9f85604740eb85dbf9dbd495de67</td>\n",
       "      <td>2760.0</td>\n",
       "      <td>NaN</td>\n",
       "      <td>1.0</td>\n",
       "      <td>11400.0</td>\n",
       "      <td>...</td>\n",
       "      <td>NaN</td>\n",
       "      <td>56.00</td>\n",
       "      <td>36572.0</td>\n",
       "      <td>0.0</td>\n",
       "      <td>7603168.0</td>\n",
       "      <td>NaN</td>\n",
       "      <td>100.0</td>\n",
       "      <td>3684.0</td>\n",
       "      <td>2760.0</td>\n",
       "      <td>2.12</td>\n",
       "    </tr>\n",
       "    <tr>\n",
       "      <th>15</th>\n",
       "      <td>15</td>\n",
       "      <td>1.601834e+09</td>\n",
       "      <td>Charging</td>\n",
       "      <td>SWD</td>\n",
       "      <td>macos</td>\n",
       "      <td>13370f11455f4f36a0680b9725189375</td>\n",
       "      <td>4089.0</td>\n",
       "      <td>0.0</td>\n",
       "      <td>1756.0</td>\n",
       "      <td>NaN</td>\n",
       "      <td>...</td>\n",
       "      <td>40.00</td>\n",
       "      <td>55.50</td>\n",
       "      <td>NaN</td>\n",
       "      <td>NaN</td>\n",
       "      <td>NaN</td>\n",
       "      <td>2.0</td>\n",
       "      <td>NaN</td>\n",
       "      <td>5088.0</td>\n",
       "      <td>3383.0</td>\n",
       "      <td>2.76</td>\n",
       "    </tr>\n",
       "    <tr>\n",
       "      <th>20</th>\n",
       "      <td>20</td>\n",
       "      <td>1.601834e+09</td>\n",
       "      <td>Charging</td>\n",
       "      <td>SWD</td>\n",
       "      <td>macos</td>\n",
       "      <td>13370f11455f4f36a0680b9725189375</td>\n",
       "      <td>4089.0</td>\n",
       "      <td>0.0</td>\n",
       "      <td>1682.0</td>\n",
       "      <td>NaN</td>\n",
       "      <td>...</td>\n",
       "      <td>38.80</td>\n",
       "      <td>59.00</td>\n",
       "      <td>NaN</td>\n",
       "      <td>NaN</td>\n",
       "      <td>NaN</td>\n",
       "      <td>2.0</td>\n",
       "      <td>NaN</td>\n",
       "      <td>5088.0</td>\n",
       "      <td>3411.0</td>\n",
       "      <td>2.75</td>\n",
       "    </tr>\n",
       "    <tr>\n",
       "      <th>...</th>\n",
       "      <td>...</td>\n",
       "      <td>...</td>\n",
       "      <td>...</td>\n",
       "      <td>...</td>\n",
       "      <td>...</td>\n",
       "      <td>...</td>\n",
       "      <td>...</td>\n",
       "      <td>...</td>\n",
       "      <td>...</td>\n",
       "      <td>...</td>\n",
       "      <td>...</td>\n",
       "      <td>...</td>\n",
       "      <td>...</td>\n",
       "      <td>...</td>\n",
       "      <td>...</td>\n",
       "      <td>...</td>\n",
       "      <td>...</td>\n",
       "      <td>...</td>\n",
       "      <td>...</td>\n",
       "      <td>...</td>\n",
       "      <td>...</td>\n",
       "    </tr>\n",
       "    <tr>\n",
       "      <th>369425</th>\n",
       "      <td>369425</td>\n",
       "      <td>1.606920e+09</td>\n",
       "      <td>Charging</td>\n",
       "      <td>BYD</td>\n",
       "      <td>linux</td>\n",
       "      <td>0a236299cff2433fbd19467990418ba4</td>\n",
       "      <td>NaN</td>\n",
       "      <td>NaN</td>\n",
       "      <td>200.0</td>\n",
       "      <td>11400.0</td>\n",
       "      <td>...</td>\n",
       "      <td>NaN</td>\n",
       "      <td>NaN</td>\n",
       "      <td>43140.0</td>\n",
       "      <td>0.0</td>\n",
       "      <td>7413400.0</td>\n",
       "      <td>NaN</td>\n",
       "      <td>NaN</td>\n",
       "      <td>NaN</td>\n",
       "      <td>NaN</td>\n",
       "      <td>2.39</td>\n",
       "    </tr>\n",
       "    <tr>\n",
       "      <th>369430</th>\n",
       "      <td>369430</td>\n",
       "      <td>1.606920e+09</td>\n",
       "      <td>Charging</td>\n",
       "      <td>BYD</td>\n",
       "      <td>linux</td>\n",
       "      <td>0a236299cff2433fbd19467990418ba4</td>\n",
       "      <td>NaN</td>\n",
       "      <td>NaN</td>\n",
       "      <td>NaN</td>\n",
       "      <td>11400.0</td>\n",
       "      <td>...</td>\n",
       "      <td>NaN</td>\n",
       "      <td>NaN</td>\n",
       "      <td>43140.0</td>\n",
       "      <td>NaN</td>\n",
       "      <td>7431924.0</td>\n",
       "      <td>NaN</td>\n",
       "      <td>NaN</td>\n",
       "      <td>NaN</td>\n",
       "      <td>NaN</td>\n",
       "      <td>2.40</td>\n",
       "    </tr>\n",
       "    <tr>\n",
       "      <th>369435</th>\n",
       "      <td>369435</td>\n",
       "      <td>1.606920e+09</td>\n",
       "      <td>Charging</td>\n",
       "      <td>BYD</td>\n",
       "      <td>linux</td>\n",
       "      <td>0a236299cff2433fbd19467990418ba4</td>\n",
       "      <td>NaN</td>\n",
       "      <td>NaN</td>\n",
       "      <td>NaN</td>\n",
       "      <td>11400.0</td>\n",
       "      <td>...</td>\n",
       "      <td>NaN</td>\n",
       "      <td>NaN</td>\n",
       "      <td>43140.0</td>\n",
       "      <td>NaN</td>\n",
       "      <td>7437756.0</td>\n",
       "      <td>NaN</td>\n",
       "      <td>NaN</td>\n",
       "      <td>NaN</td>\n",
       "      <td>NaN</td>\n",
       "      <td>NaN</td>\n",
       "    </tr>\n",
       "    <tr>\n",
       "      <th>369440</th>\n",
       "      <td>369440</td>\n",
       "      <td>1.606920e+09</td>\n",
       "      <td>Full</td>\n",
       "      <td>BYD</td>\n",
       "      <td>linux</td>\n",
       "      <td>0a236299cff2433fbd19467990418ba4</td>\n",
       "      <td>NaN</td>\n",
       "      <td>NaN</td>\n",
       "      <td>NaN</td>\n",
       "      <td>11400.0</td>\n",
       "      <td>...</td>\n",
       "      <td>NaN</td>\n",
       "      <td>NaN</td>\n",
       "      <td>43140.0</td>\n",
       "      <td>NaN</td>\n",
       "      <td>7406704.0</td>\n",
       "      <td>NaN</td>\n",
       "      <td>NaN</td>\n",
       "      <td>NaN</td>\n",
       "      <td>NaN</td>\n",
       "      <td>NaN</td>\n",
       "    </tr>\n",
       "    <tr>\n",
       "      <th>369445</th>\n",
       "      <td>369445</td>\n",
       "      <td>1.606920e+09</td>\n",
       "      <td>Full</td>\n",
       "      <td>SWD</td>\n",
       "      <td>macos</td>\n",
       "      <td>13370f11455f4f36a0680b9725189375</td>\n",
       "      <td>NaN</td>\n",
       "      <td>NaN</td>\n",
       "      <td>NaN</td>\n",
       "      <td>NaN</td>\n",
       "      <td>...</td>\n",
       "      <td>NaN</td>\n",
       "      <td>NaN</td>\n",
       "      <td>NaN</td>\n",
       "      <td>NaN</td>\n",
       "      <td>NaN</td>\n",
       "      <td>2.0</td>\n",
       "      <td>NaN</td>\n",
       "      <td>NaN</td>\n",
       "      <td>NaN</td>\n",
       "      <td>NaN</td>\n",
       "    </tr>\n",
       "  </tbody>\n",
       "</table>\n",
       "<p>73890 rows × 26 columns</p>\n",
       "</div>"
      ],
      "text/plain": [
       "        Unnamed: 0          time battery_status manufacturer     os  \\\n",
       "0                0  1.601834e+09       Charging          SWD  macos   \n",
       "5                5  1.601834e+09       Charging          SWD  macos   \n",
       "10              10  1.601834e+09           Full          BYD  linux   \n",
       "15              15  1.601834e+09       Charging          SWD  macos   \n",
       "20              20  1.601834e+09       Charging          SWD  macos   \n",
       "...            ...           ...            ...          ...    ...   \n",
       "369425      369425  1.606920e+09       Charging          BYD  linux   \n",
       "369430      369430  1.606920e+09       Charging          BYD  linux   \n",
       "369435      369435  1.606920e+09       Charging          BYD  linux   \n",
       "369440      369440  1.606920e+09           Full          BYD  linux   \n",
       "369445      369445  1.606920e+09           Full          SWD  macos   \n",
       "\n",
       "                                    uuid  charge_full  mean_fans_rpm  \\\n",
       "0       13370f11455f4f36a0680b9725189375       4089.0            0.0   \n",
       "5       13370f11455f4f36a0680b9725189375       4089.0            0.0   \n",
       "10      5fbc9f85604740eb85dbf9dbd495de67       2760.0            NaN   \n",
       "15      13370f11455f4f36a0680b9725189375       4089.0            0.0   \n",
       "20      13370f11455f4f36a0680b9725189375       4089.0            0.0   \n",
       "...                                  ...          ...            ...   \n",
       "369425  0a236299cff2433fbd19467990418ba4          NaN            NaN   \n",
       "369430  0a236299cff2433fbd19467990418ba4          NaN            NaN   \n",
       "369435  0a236299cff2433fbd19467990418ba4          NaN            NaN   \n",
       "369440  0a236299cff2433fbd19467990418ba4          NaN            NaN   \n",
       "369445  13370f11455f4f36a0680b9725189375          NaN            NaN   \n",
       "\n",
       "        current_now  voltage_min_design  ...  battery_temp  cpu_temp  \\\n",
       "0            2053.0                 NaN  ...         40.00     55.63   \n",
       "5            1863.0                 NaN  ...         40.09     58.56   \n",
       "10              1.0             11400.0  ...           NaN     56.00   \n",
       "15           1756.0                 NaN  ...         40.00     55.50   \n",
       "20           1682.0                 NaN  ...         38.80     59.00   \n",
       "...             ...                 ...  ...           ...       ...   \n",
       "369425        200.0             11400.0  ...           NaN       NaN   \n",
       "369430          NaN             11400.0  ...           NaN       NaN   \n",
       "369435          NaN             11400.0  ...           NaN       NaN   \n",
       "369440          NaN             11400.0  ...           NaN       NaN   \n",
       "369445          NaN                 NaN  ...           NaN       NaN   \n",
       "\n",
       "        swap_load  fans_rpm   ram_load  number_of_fans  capacity  \\\n",
       "0             NaN       NaN        NaN             2.0       NaN   \n",
       "5             NaN       NaN        NaN             2.0       NaN   \n",
       "10        36572.0       0.0  7603168.0             NaN     100.0   \n",
       "15            NaN       NaN        NaN             2.0       NaN   \n",
       "20            NaN       NaN        NaN             2.0       NaN   \n",
       "...           ...       ...        ...             ...       ...   \n",
       "369425    43140.0       0.0  7413400.0             NaN       NaN   \n",
       "369430    43140.0       NaN  7431924.0             NaN       NaN   \n",
       "369435    43140.0       NaN  7437756.0             NaN       NaN   \n",
       "369440    43140.0       NaN  7406704.0             NaN       NaN   \n",
       "369445        NaN       NaN        NaN             2.0       NaN   \n",
       "\n",
       "        charge_full_design  charge_now  load_average_15  \n",
       "0                   5088.0      3289.0             2.63  \n",
       "5                   5088.0      3354.0             2.69  \n",
       "10                  3684.0      2760.0             2.12  \n",
       "15                  5088.0      3383.0             2.76  \n",
       "20                  5088.0      3411.0             2.75  \n",
       "...                    ...         ...              ...  \n",
       "369425                 NaN         NaN             2.39  \n",
       "369430                 NaN         NaN             2.40  \n",
       "369435                 NaN         NaN              NaN  \n",
       "369440                 NaN         NaN              NaN  \n",
       "369445                 NaN         NaN              NaN  \n",
       "\n",
       "[73890 rows x 26 columns]"
      ]
     },
     "execution_count": 5,
     "metadata": {},
     "output_type": "execute_result"
    }
   ],
   "source": [
    "df = pd.read_csv(\"data_54.38.188.95/all.csv\")\n",
    "df = df.iloc[::5]\n",
    "df"
   ]
  },
  {
   "cell_type": "code",
   "execution_count": 6,
   "metadata": {
    "cell_id": "00005-996de5b8-3b81-4755-92ff-1ff15534fa29",
    "deepnote_cell_type": "code",
    "execution_millis": 0,
    "execution_start": 1607528132640,
    "output_cleared": false,
    "source_hash": "fa3e1115"
   },
   "outputs": [],
   "source": [
    "params = {\n",
    "    \"max_gap_between_sessions\": 400,\n",
    "    \"min_num_points_per_session\": 10,\n",
    "    \"min_session_duration\": 600,\n",
    "    \"label_lower_bound\": 0.2,\n",
    "    \"label_upper_bound\": 0.5,\n",
    "    \"train_split\": 0.7,\n",
    "    \"features\": [\n",
    "        #'charge_full',\n",
    "        'current_now',\n",
    "        'n_running_threads',\n",
    "        'load_average_5',\n",
    "        'load_average_1',\n",
    "        'load_average_15',\n",
    "        #'voltage_now',\n",
    "        'cpu_temp',\n",
    "        #'fans_rpm',\n",
    "        'charge_full_design',\n",
    "        'charge_now',\n",
    "    ],\n",
    "    \"context\": [\n",
    "        #'time',\n",
    "        'epoch_sin_day',\n",
    "        'battery_status_Charging',\n",
    "        'battery_status_Discharging',\n",
    "        'os_linux',\n",
    "        'os_macos'\n",
    "    ],\n",
    "    \"batch_size\": 12,\n",
    "    \"repeat\": 10,\n",
    "}"
   ]
  },
  {
   "cell_type": "markdown",
   "metadata": {
    "cell_id": "00006-dc8343cf-974a-4989-b90f-7f1d8e91b1d7",
    "deepnote_cell_type": "markdown",
    "tags": []
   },
   "source": [
    "# Hi deepnote dev team\n",
    "# we like your product\n",
    "# do you want us to beta test it ?\n",
    "\n",
    "we need money\n",
    "\n",
    "  1. Faire la différences entre les features et les contexts dans `params`\n",
    "  1. Séparer les features du context dans `data.py`\n",
    "  1. Mettre context en entrée du model (forward) (+ taille des couches en paramètre du modèle)\n",
    "  1. Modifier training"
   ]
  },
  {
   "cell_type": "code",
   "execution_count": 7,
   "metadata": {
    "cell_id": "00006-4c1832b6-20c1-454a-aa03-9985fc398eb5",
    "deepnote_cell_type": "code",
    "execution_millis": 7615,
    "execution_start": 1607528135452,
    "output_cleared": false,
    "scrolled": true,
    "source_hash": "152f38fd"
   },
   "outputs": [
    {
     "name": "stderr",
     "output_type": "stream",
     "text": [
      "INFO:root:24724 data points\n",
      "DEBUG:root:13370f11455f4f36a0680b9725189375 - 3865 points\n",
      "DEBUG:root:Extracted 80 sessions\n",
      "DEBUG:root:5fbc9f85604740eb85dbf9dbd495de67 - 1105 points\n",
      "DEBUG:root:Extracted 29 sessions\n",
      "DEBUG:root:0a236299cff2433fbd19467990418ba4 - 7646 points\n",
      "DEBUG:root:Extracted 111 sessions\n",
      "DEBUG:root:e7bbfc496d57492a82e68d8cf2835761 - 4 points\n",
      "DEBUG:root:Extracted 0 sessions\n",
      "DEBUG:root:6c328af026994ab5ae14d1eb27d92e2b - 8675 points\n",
      "DEBUG:root:Extracted 143 sessions\n",
      "DEBUG:root:e18acda9486c41fc8d19777cd114ac39 - 3429 points\n",
      "DEBUG:root:Extracted 69 sessions\n",
      "INFO:root:Extracted 432 sessions\n"
     ]
    }
   ],
   "source": [
    "train, val = create_data_loader(df, params)"
   ]
  },
  {
   "cell_type": "code",
   "execution_count": 8,
   "metadata": {
    "cell_id": "00007-e72ca430-4f62-4142-9fee-fc8a21c1df55",
    "deepnote_cell_type": "code",
    "execution_millis": 15,
    "execution_start": 1607528143069,
    "output_cleared": false,
    "source_hash": "5d215021"
   },
   "outputs": [
    {
     "name": "stdout",
     "output_type": "stream",
     "text": [
      "252 109\n"
     ]
    }
   ],
   "source": [
    "print(len(train), len(val))"
   ]
  },
  {
   "cell_type": "code",
   "execution_count": 9,
   "metadata": {
    "cell_id": "00008-61585fde-ec4d-4a65-8cff-8df9ed935730",
    "deepnote_cell_type": "code",
    "execution_millis": 0,
    "execution_start": 1607528442940,
    "output_cleared": false,
    "source_hash": "798fc036"
   },
   "outputs": [
    {
     "name": "stdout",
     "output_type": "stream",
     "text": [
      "torch.Size([12, 70, 13])\n",
      "tensor([ 4, 20,  9, 70, 24, 38, 17, 15, 43, 17, 15, 10])\n",
      "torch.Size([12, 99, 5])\n",
      "tensor([ 8, 31, 17, 99, 50, 49, 31, 25, 99, 46, 17, 21])\n"
     ]
    }
   ],
   "source": [
    "for (inputs, context), label in train:\n",
    "    unpacked_inputs, lengths = pad_packed_sequence(inputs, batch_first=True, padding_value=-999)\n",
    "    print(unpacked_inputs.shape)\n",
    "    print(lengths)\n",
    "    unpacked_context, lengths = pad_packed_sequence(context, batch_first=True, padding_value=-999)\n",
    "    print(unpacked_context.shape)\n",
    "    print(lengths)\n",
    "    break"
   ]
  },
  {
   "cell_type": "code",
   "execution_count": 10,
   "metadata": {
    "cell_id": "00009-2a036ab5-af8e-4dae-aa1f-cfe4d7492126",
    "deepnote_cell_type": "code",
    "execution_millis": 0,
    "execution_start": 1607528559156,
    "output_cleared": false,
    "source_hash": "ca9dc23b"
   },
   "outputs": [
    {
     "data": {
      "text/plain": [
       "7"
      ]
     },
     "execution_count": 10,
     "metadata": {},
     "output_type": "execute_result"
    }
   ],
   "source": [
    "target_col = params[\"features\"].index(\"charge_now\")\n",
    "target_col"
   ]
  },
  {
   "cell_type": "code",
   "execution_count": 11,
   "metadata": {
    "cell_id": "00010-6121943d-6341-408d-a855-ca1e0b3e8591",
    "deepnote_cell_type": "code",
    "execution_millis": 18,
    "execution_start": 1607528562288,
    "output_cleared": false,
    "source_hash": "21e32291"
   },
   "outputs": [],
   "source": [
    "import matplotlib.pyplot as plt\n",
    "import numpy as np"
   ]
  },
  {
   "cell_type": "code",
   "execution_count": 12,
   "metadata": {
    "cell_id": "00011-99e73388-c15d-4b5f-a238-85d28f362336",
    "deepnote_cell_type": "code",
    "execution_millis": 177,
    "execution_start": 1607528586583,
    "output_cleared": false,
    "scrolled": false,
    "source_hash": "47f1bbb5"
   },
   "outputs": [
    {
     "name": "stdout",
     "output_type": "stream",
     "text": [
      "torch.Size([12, 44, 13])\n",
      "torch.Size([12, 79, 8])\n"
     ]
    },
    {
     "data": {
      "image/png": "[encoded data removed]",
      "text/plain": [
       "<Figure size 432x288 with 1 Axes>"
      ]
     },
     "metadata": {
      "needs_background": "light"
     },
     "output_type": "display_data"
    }
   ],
   "source": [
    "for (inputs, context), labels in train:\n",
    "    inputs, inputs_len = pad_packed_sequence(inputs, batch_first=True, padding_value=-999)\n",
    "    labels, labels_len = pad_packed_sequence(labels, batch_first=True, padding_value=-999)\n",
    "    print(inputs.shape) \n",
    "    print(labels.shape)\n",
    "    plt.plot(\n",
    "        np.arange(0, inputs_len[0]), \n",
    "        inputs[0, :inputs_len[0], target_col]\n",
    "    )\n",
    "    plt.plot(\n",
    "        np.arange(inputs_len[0], labels_len[0]+inputs_len[0]), \n",
    "        labels[0, :labels_len[0], target_col], \"ro\"\n",
    "    )\n",
    "    plt.show()\n",
    "    break"
   ]
  },
  {
   "cell_type": "code",
   "execution_count": 18,
   "metadata": {
    "cell_id": "00012-da0c7bbe-2bd4-4b2b-bb82-effabc69c7cf",
    "deepnote_cell_type": "code",
    "execution_millis": 15,
    "execution_start": 1607528586016,
    "output_cleared": false,
    "source_hash": "d7e79573"
   },
   "outputs": [],
   "source": [
    "import torch\n",
    "import torch.nn as nn\n",
    "import torch.nn.functional as F\n",
    "import torch.optim as optim\n",
    "from tqdm import tqdm\n",
    "from torch.nn.utils.rnn import pad_sequence\n",
    "\n",
    "from batteryprobe.utils import pad_and_pack, masked_l1"
   ]
  },
  {
   "cell_type": "markdown",
   "metadata": {
    "cell_id": "00013-1d85e605-0d32-4000-a7a4-aa44aa80e631",
    "deepnote_cell_type": "markdown"
   },
   "source": [
    "---\n",
    "### DEPRECATED\n",
    "### vvv"
   ]
  },
  {
   "cell_type": "code",
   "execution_count": null,
   "metadata": {
    "cell_id": "00014-f3f30a9f-cd58-4b72-b57b-36f378ec118d",
    "deepnote_cell_type": "code"
   },
   "outputs": [],
   "source": [
    "class Baseline(nn.Module):\n",
    "    def __init__(self, target_col):\n",
    "        super(Baseline, self).__init__()\n",
    "        self.target_col = target_col\n",
    "        \n",
    "    def forward(self, x, out_steps):\n",
    "        pad_x, lengths = pad_packed_sequence(x, batch_first=True, padding_value=-999)\n",
    "        \n",
    "        # Compute slope\n",
    "        h = (pad_x[np.arange(pad_x.shape[0]), lengths-1, self.target_col] - \n",
    "            pad_x[np.arange(pad_x.shape[0]), 0, self.target_col])\n",
    "        b = (pad_x[np.arange(pad_x.shape[0]), lengths-1, 0] - \n",
    "            pad_x[np.arange(pad_x.shape[0]), 0, 0])\n",
    "        slope = h / b\n",
    "        \n",
    "        batch = []\n",
    "        for i, length in enumerate(out_steps):\n",
    "            res = torch.zeros((length, pad_x.shape[2]))\n",
    "            res[:, self.target_col] = (pad_x[i, length-1, 0] - pad_x[i, 0, 0]\n",
    "            ) #* slope[i] + pad_x[i, 0, self.target_col]\n",
    "            batch.append(res)\n",
    "        return pad_and_pack(batch)\n",
    "#         res[:, :, self.target_col] = (out_steps - x[:, 0, 0]\n",
    "#         ) * slope + x[:, 0, self.target_col]\n",
    "#         return res"
   ]
  },
  {
   "cell_type": "code",
   "execution_count": null,
   "metadata": {
    "cell_id": "00015-c6db4181-0d27-4e11-a686-37e784278fbe",
    "deepnote_cell_type": "code"
   },
   "outputs": [],
   "source": [
    "baseline = Baseline(target_col)"
   ]
  },
  {
   "cell_type": "code",
   "execution_count": null,
   "metadata": {
    "cell_id": "00016-d2706ab5-5a15-4a5f-9403-8d017e857018",
    "deepnote_cell_type": "code"
   },
   "outputs": [
    {
     "ename": "IndexError",
     "evalue": "index 31 is out of bounds for dimension 1 with size 19",
     "output_type": "error",
     "traceback": [
      "\u001b[0;31m---------------------------------------------------------------------------\u001b[0m",
      "\u001b[0;31mIndexError\u001b[0m                                Traceback (most recent call last)",
      "\u001b[0;32m<ipython-input-330-c1c4d80980b0>\u001b[0m in \u001b[0;36m<module>\u001b[0;34m\u001b[0m\n\u001b[1;32m      1\u001b[0m \u001b[0;32mfor\u001b[0m \u001b[0minputs\u001b[0m\u001b[0;34m,\u001b[0m \u001b[0mlabels\u001b[0m \u001b[0;32min\u001b[0m \u001b[0mtrain\u001b[0m\u001b[0;34m:\u001b[0m\u001b[0;34m\u001b[0m\u001b[0;34m\u001b[0m\u001b[0m\n\u001b[1;32m      2\u001b[0m     \u001b[0mout_steps\u001b[0m \u001b[0;34m=\u001b[0m \u001b[0mpad_packed_sequence\u001b[0m\u001b[0;34m(\u001b[0m\u001b[0mlabels\u001b[0m\u001b[0;34m,\u001b[0m \u001b[0mbatch_first\u001b[0m\u001b[0;34m=\u001b[0m\u001b[0;32mTrue\u001b[0m\u001b[0;34m,\u001b[0m \u001b[0mpadding_value\u001b[0m\u001b[0;34m=\u001b[0m\u001b[0;34m-\u001b[0m\u001b[0;36m999\u001b[0m\u001b[0;34m)\u001b[0m\u001b[0;34m[\u001b[0m\u001b[0;36m1\u001b[0m\u001b[0;34m]\u001b[0m\u001b[0;34m\u001b[0m\u001b[0;34m\u001b[0m\u001b[0m\n\u001b[0;32m----> 3\u001b[0;31m     \u001b[0moutputs\u001b[0m \u001b[0;34m=\u001b[0m \u001b[0mbaseline\u001b[0m\u001b[0;34m(\u001b[0m\u001b[0minputs\u001b[0m\u001b[0;34m.\u001b[0m\u001b[0mfloat\u001b[0m\u001b[0;34m(\u001b[0m\u001b[0;34m)\u001b[0m\u001b[0;34m,\u001b[0m \u001b[0mout_steps\u001b[0m\u001b[0;34m)\u001b[0m\u001b[0;34m\u001b[0m\u001b[0;34m\u001b[0m\u001b[0m\n\u001b[0m\u001b[1;32m      4\u001b[0m     \u001b[0mpad_outputs\u001b[0m\u001b[0;34m,\u001b[0m \u001b[0m_\u001b[0m \u001b[0;34m=\u001b[0m \u001b[0mpad_packed_sequence\u001b[0m\u001b[0;34m(\u001b[0m\u001b[0moutputs\u001b[0m\u001b[0;34m,\u001b[0m \u001b[0mbatch_first\u001b[0m\u001b[0;34m=\u001b[0m\u001b[0;32mTrue\u001b[0m\u001b[0;34m,\u001b[0m \u001b[0mpadding_value\u001b[0m\u001b[0;34m=\u001b[0m\u001b[0;34m-\u001b[0m\u001b[0;36m999\u001b[0m\u001b[0;34m)\u001b[0m\u001b[0;34m\u001b[0m\u001b[0;34m\u001b[0m\u001b[0m\n\u001b[1;32m      5\u001b[0m     \u001b[0mprint\u001b[0m\u001b[0;34m(\u001b[0m\u001b[0mpad_outputs\u001b[0m\u001b[0;34m.\u001b[0m\u001b[0mshape\u001b[0m\u001b[0;34m)\u001b[0m\u001b[0;34m\u001b[0m\u001b[0;34m\u001b[0m\u001b[0m\n",
      "\u001b[0;32m~/Documents/ML/BatteryProbe.ai/.venv/lib/python3.7/site-packages/torch/nn/modules/module.py\u001b[0m in \u001b[0;36m_call_impl\u001b[0;34m(self, *input, **kwargs)\u001b[0m\n\u001b[1;32m    725\u001b[0m             \u001b[0mresult\u001b[0m \u001b[0;34m=\u001b[0m \u001b[0mself\u001b[0m\u001b[0;34m.\u001b[0m\u001b[0m_slow_forward\u001b[0m\u001b[0;34m(\u001b[0m\u001b[0;34m*\u001b[0m\u001b[0minput\u001b[0m\u001b[0;34m,\u001b[0m \u001b[0;34m**\u001b[0m\u001b[0mkwargs\u001b[0m\u001b[0;34m)\u001b[0m\u001b[0;34m\u001b[0m\u001b[0;34m\u001b[0m\u001b[0m\n\u001b[1;32m    726\u001b[0m         \u001b[0;32melse\u001b[0m\u001b[0;34m:\u001b[0m\u001b[0;34m\u001b[0m\u001b[0;34m\u001b[0m\u001b[0m\n\u001b[0;32m--> 727\u001b[0;31m             \u001b[0mresult\u001b[0m \u001b[0;34m=\u001b[0m \u001b[0mself\u001b[0m\u001b[0;34m.\u001b[0m\u001b[0mforward\u001b[0m\u001b[0;34m(\u001b[0m\u001b[0;34m*\u001b[0m\u001b[0minput\u001b[0m\u001b[0;34m,\u001b[0m \u001b[0;34m**\u001b[0m\u001b[0mkwargs\u001b[0m\u001b[0;34m)\u001b[0m\u001b[0;34m\u001b[0m\u001b[0;34m\u001b[0m\u001b[0m\n\u001b[0m\u001b[1;32m    728\u001b[0m         for hook in itertools.chain(\n\u001b[1;32m    729\u001b[0m                 \u001b[0m_global_forward_hooks\u001b[0m\u001b[0;34m.\u001b[0m\u001b[0mvalues\u001b[0m\u001b[0;34m(\u001b[0m\u001b[0;34m)\u001b[0m\u001b[0;34m,\u001b[0m\u001b[0;34m\u001b[0m\u001b[0;34m\u001b[0m\u001b[0m\n",
      "\u001b[0;32m<ipython-input-328-b442f6551b49>\u001b[0m in \u001b[0;36mforward\u001b[0;34m(self, x, out_steps)\u001b[0m\n\u001b[1;32m     16\u001b[0m         \u001b[0;32mfor\u001b[0m \u001b[0mi\u001b[0m\u001b[0;34m,\u001b[0m \u001b[0mlength\u001b[0m \u001b[0;32min\u001b[0m \u001b[0menumerate\u001b[0m\u001b[0;34m(\u001b[0m\u001b[0mout_steps\u001b[0m\u001b[0;34m)\u001b[0m\u001b[0;34m:\u001b[0m\u001b[0;34m\u001b[0m\u001b[0;34m\u001b[0m\u001b[0m\n\u001b[1;32m     17\u001b[0m             \u001b[0mres\u001b[0m \u001b[0;34m=\u001b[0m \u001b[0mtorch\u001b[0m\u001b[0;34m.\u001b[0m\u001b[0mzeros\u001b[0m\u001b[0;34m(\u001b[0m\u001b[0;34m(\u001b[0m\u001b[0mlength\u001b[0m\u001b[0;34m,\u001b[0m \u001b[0mpad_x\u001b[0m\u001b[0;34m.\u001b[0m\u001b[0mshape\u001b[0m\u001b[0;34m[\u001b[0m\u001b[0;36m2\u001b[0m\u001b[0;34m]\u001b[0m\u001b[0;34m)\u001b[0m\u001b[0;34m)\u001b[0m\u001b[0;34m\u001b[0m\u001b[0;34m\u001b[0m\u001b[0m\n\u001b[0;32m---> 18\u001b[0;31m             res[:, self.target_col] = (pad_x[i, length-1, 0] - pad_x[i, 0, 0]\n\u001b[0m\u001b[1;32m     19\u001b[0m             ) #* slope[i] + pad_x[i, 0, self.target_col]\n\u001b[1;32m     20\u001b[0m             \u001b[0mbatch\u001b[0m\u001b[0;34m.\u001b[0m\u001b[0mappend\u001b[0m\u001b[0;34m(\u001b[0m\u001b[0mres\u001b[0m\u001b[0;34m)\u001b[0m\u001b[0;34m\u001b[0m\u001b[0;34m\u001b[0m\u001b[0m\n",
      "\u001b[0;31mIndexError\u001b[0m: index 31 is out of bounds for dimension 1 with size 19"
     ]
    }
   ],
   "source": [
    "for inputs, labels in train:\n",
    "    out_steps = pad_packed_sequence(labels, batch_first=True, padding_value=-999)[1]\n",
    "    outputs = baseline(inputs.float(), out_steps)\n",
    "    pad_outputs, _ = pad_packed_sequence(outputs, batch_first=True, padding_value=-999)\n",
    "    print(pad_outputs.shape)\n",
    "    break"
   ]
  },
  {
   "cell_type": "code",
   "execution_count": null,
   "metadata": {
    "cell_id": "00017-10f9f92f-e545-4cd7-b29c-ed86f6409c7e",
    "deepnote_cell_type": "code"
   },
   "outputs": [
    {
     "name": "stderr",
     "output_type": "stream",
     "text": [
      "Loss 1372.17516: 100%|██████████| 167/167 [00:02<00:00, 64.07it/s]"
     ]
    },
    {
     "name": "stdout",
     "output_type": "stream",
     "text": [
      "1372.1751579497252\n"
     ]
    },
    {
     "name": "stderr",
     "output_type": "stream",
     "text": [
      "\n"
     ]
    }
   ],
   "source": [
    "score = evaluate(baseline, val, target_col=target_col)\n",
    "print(score)"
   ]
  },
  {
   "cell_type": "code",
   "execution_count": null,
   "metadata": {
    "cell_id": "00018-9ade0a16-1d45-4a28-8c66-2503785fe8d7",
    "deepnote_cell_type": "code"
   },
   "outputs": [
    {
     "name": "stdout",
     "output_type": "stream",
     "text": [
      "torch.Size([12, 19, 13])\n",
      "torch.Size([12, 32, 13])\n"
     ]
    },
    {
     "data": {
      "image/png": "[encoded data removed]",
      "text/plain": [
       "<Figure size 432x288 with 1 Axes>"
      ]
     },
     "metadata": {
      "needs_background": "light"
     },
     "output_type": "display_data"
    }
   ],
   "source": [
    "for inputs, labels in train:\n",
    "    _, out_steps = pad_packed_sequence(labels, batch_first=True, padding_value=-999)\n",
    "    outputs = baseline(inputs.float(), out_steps)\n",
    "    \n",
    "    inputs, inputs_len = pad_packed_sequence(inputs, batch_first=True, padding_value=-999)\n",
    "    labels, labels_len = pad_packed_sequence(labels, batch_first=True, padding_value=-999)\n",
    "    outputs, outputs_len = pad_packed_sequence(outputs, batch_first=True, padding_value=-999)\n",
    "    outputs = outputs.detach().numpy()\n",
    "    \n",
    "    print(inputs.shape) \n",
    "    print(labels.shape)\n",
    "    \n",
    "    plt.plot(\n",
    "        np.arange(0, inputs_len[0]), \n",
    "        inputs[0, :inputs_len[0], target_col]\n",
    "    )\n",
    "    plt.plot(\n",
    "        np.arange(inputs_len[0], labels_len[0]+inputs_len[0]), \n",
    "        labels[0, :labels_len[0], target_col], \"r--\", label=\"target\"\n",
    "    )\n",
    "    plt.plot(\n",
    "        np.arange(inputs_len[0], outputs_len[0]+inputs_len[0]), \n",
    "        outputs[0, :outputs_len[0], target_col], \"k--\", label=\"prediction\"\n",
    "    )    \n",
    "    plt.legend()\n",
    "    plt.show()\n",
    "    break"
   ]
  },
  {
   "cell_type": "markdown",
   "metadata": {
    "cell_id": "00019-ad8890b1-c3b4-4a3f-8c8d-48fe44e8afba",
    "deepnote_cell_type": "markdown"
   },
   "source": [
    "### ^^^\n",
    "### DEPRECATED\n",
    "---"
   ]
  },
  {
   "cell_type": "code",
   "execution_count": 41,
   "metadata": {
    "cell_id": "00021-2b7901bb-b528-46bf-b6c2-d668fb5ad473",
    "deepnote_cell_type": "code",
    "execution_millis": 0,
    "execution_start": 1607530780696,
    "output_cleared": false,
    "source_hash": "deab1665"
   },
   "outputs": [],
   "source": [
    "class AutoRegressive(nn.Module):\n",
    "    def __init__(self, params):\n",
    "        self.params = params\n",
    "        super(AutoRegressive, self).__init__()\n",
    "        self.in_size = len(self.params[\"features\"]) + len(self.params[\"context\"])\n",
    "        self.out_size = len(self.params[\"features\"])\n",
    "        self.lstm = nn.LSTM(self.in_size, 32, batch_first=True)\n",
    "        self.dense = nn.Linear(32, self.out_size)\n",
    "    \n",
    "    def forward(self, x, context):\n",
    "        predictions = []\n",
    "        x, warmup_state = self.warmup(x)\n",
    "        predictions.append(x)\n",
    "        print(type(context))\n",
    "        \n",
    "        context, lengths_context = pad_packed_sequence(context, batch_first=True, padding_value=-999)\n",
    "        # Loop over every element of a batch\n",
    "        batch = []\n",
    "        for i, element in enumerate(x):\n",
    "            # State corresponding to a single element in a batch\n",
    "            state = (\n",
    "                warmup_state[0][:, i, :][None, :],\n",
    "                warmup_state[1][:, i, :][None, :],\n",
    "            )\n",
    "            \n",
    "            # Add first prediction from warmup\n",
    "            timestamps = [element[None, None, :]]\n",
    "            \n",
    "            # Predict values\n",
    "            for t in range(lengths_context[i]-1):\n",
    "                # The order here is important. Inputs features should be first\n",
    "                in_tensor = torch.cat([element, context[i, t, :]], axis=-1)[None, None, :] \n",
    "                x, state = self.lstm(in_tensor, state)\n",
    "                x = self.dense(x)\n",
    "                timestamps.append(x)\n",
    "            batch.append(torch.cat(timestamps, 1)[0])\n",
    "\n",
    "        # Pack and pad sequence\n",
    "        return pad_and_pack(batch)\n",
    "\n",
    "    def warmup(self, x):\n",
    "        x, state = self.lstm(x)\n",
    "        x, lengths = pad_packed_sequence(x, batch_first=True, padding_value=-999)\n",
    "        x = torch.stack([x[i, length-1] for i, length in enumerate(lengths)])\n",
    "        x = self.dense(x)\n",
    "        return x, state "
   ]
  },
  {
   "cell_type": "code",
   "execution_count": 14,
   "metadata": {},
   "outputs": [],
   "source": [
    "from batteryprobe.models import AutoRegressive"
   ]
  },
  {
   "cell_type": "code",
   "execution_count": 15,
   "metadata": {
    "cell_id": "00022-cfd5196b-54c3-4c7c-baa3-85c3751daa91",
    "deepnote_cell_type": "code",
    "execution_millis": 0,
    "execution_start": 1607531018372,
    "output_cleared": false,
    "source_hash": "de92d558"
   },
   "outputs": [],
   "source": [
    "model = AutoRegressive(params)"
   ]
  },
  {
   "cell_type": "code",
   "execution_count": 16,
   "metadata": {
    "cell_id": "00023-0664d7a1-2b14-4332-b67b-fc029e387a59",
    "deepnote_cell_type": "code",
    "execution_millis": 187,
    "execution_start": 1607531020684,
    "output_cleared": false,
    "scrolled": false,
    "source_hash": "6d0edea2"
   },
   "outputs": [
    {
     "name": "stdout",
     "output_type": "stream",
     "text": [
      "OUT PackedSequence(data=tensor([[-0.0346,  0.1403,  0.0300,  ...,  0.0820, -0.0927, -0.0065],\n",
      "        [-0.0285,  0.1355, -0.0325,  ..., -0.0447, -0.0489, -0.0010],\n",
      "        [-0.0303,  0.1496,  0.0761,  ...,  0.0814, -0.0790,  0.0515],\n",
      "        ...,\n",
      "        [-0.0556,  0.1492, -0.0238,  ...,  0.0793, -0.0362,  0.0029],\n",
      "        [-0.0555,  0.1493, -0.0237,  ...,  0.0794, -0.0362,  0.0029],\n",
      "        [-0.0555,  0.1493, -0.0236,  ...,  0.0796, -0.0361,  0.0030]],\n",
      "       grad_fn=<PackPaddedSequenceBackward>), batch_sizes=tensor([12, 12, 12, 12, 12, 12, 12, 12, 12, 12, 12, 11, 10, 10,  9,  9,  9,  9,\n",
      "         8,  8,  8,  8,  8,  8,  8,  8,  8,  8,  8,  7,  6,  6,  6,  6,  6,  6,\n",
      "         5,  5,  5,  5,  5,  4,  4,  4,  3,  3,  3,  3,  3,  3,  3,  3,  3,  3,\n",
      "         3,  3,  3,  3,  3,  3,  2,  2,  2,  2,  1,  1,  1,  1,  1,  1,  1]), sorted_indices=tensor([11,  3,  2,  6,  4, 10,  8,  9,  1,  7,  0,  5]), unsorted_indices=tensor([10,  8,  2,  1,  4, 11,  3,  9,  6,  7,  5,  0]))\n"
     ]
    }
   ],
   "source": [
    "for (inputs, context), labels in train:\n",
    "    #print(inputs)\n",
    "    #print(labels)\n",
    "    print(\"OUT\", model(inputs.float(), context.float()))\n",
    "    break"
   ]
  },
  {
   "cell_type": "code",
   "execution_count": 19,
   "metadata": {
    "cell_id": "00024-b1145b5f-6ab5-45a1-8888-0b1d939a0bf5",
    "deepnote_cell_type": "code",
    "execution_millis": 15,
    "execution_start": 1607531026825,
    "output_cleared": false,
    "scrolled": false,
    "source_hash": "d834e786"
   },
   "outputs": [
    {
     "name": "stderr",
     "output_type": "stream",
     "text": [
      "Epoch #1 - Loss = 0.36781\t: 100%|██████████| 252/252 [01:17<00:00,  3.25it/s]\n",
      "Validation loss = 0.30197\t: 100%|██████████| 109/109 [00:11<00:00,  9.71it/s]\n",
      "Epoch #2 - Loss = 0.27215\t: 100%|██████████| 252/252 [01:15<00:00,  3.32it/s]\n",
      "Validation loss = 0.28954\t: 100%|██████████| 109/109 [00:12<00:00,  8.66it/s]\n"
     ]
    }
   ],
   "source": [
    "N_EPOCHS = 2\n",
    "LEARNING_RATE = 3e-3\n",
    "\n",
    "criterion = masked_l1\n",
    "optimizer = optim.Adam(model.parameters(), lr=LEARNING_RATE)\n",
    "\n",
    "history = []\n",
    "val_history = []\n",
    "\n",
    "for epoch in range(N_EPOCHS):\n",
    "    \n",
    "    # Training \n",
    "    running_loss = 0\n",
    "    pbar = tqdm(train) \n",
    "    for i, ((inputs, context), labels) in enumerate(pbar):\n",
    "        optimizer.zero_grad()\n",
    "        \n",
    "        # Find number of out steps for each element in the batch\n",
    "        out_steps = pad_packed_sequence(labels, batch_first=True, padding_value=-999)[1]\n",
    "        outputs = model(inputs.float(), context.float())\n",
    "        \n",
    "        # Pad packed labels and outputs\n",
    "        pad_labels, _ = pad_packed_sequence(labels, batch_first=True, padding_value=-999)\n",
    "        pad_outputs, _ = pad_packed_sequence(outputs, batch_first=True, padding_value=-999)\n",
    "\n",
    "        loss = criterion(pad_outputs, pad_labels.float()) # Loss = entre outputs (12) et les labels (12)\n",
    "        loss.backward()\n",
    "        optimizer.step()\n",
    "        running_loss += loss.item()\n",
    "        if not (i % 5):\n",
    "            pbar.set_description(\n",
    "                f\"Epoch #{epoch+1} - Loss = {running_loss / (i+1):.5f}\\t\"\n",
    "            )\n",
    "    history.append(running_loss / (i+1))\n",
    "\n",
    "    # Validation\n",
    "    val_running_loss = 0\n",
    "    pbar = tqdm(val)\n",
    "    with torch.no_grad():\n",
    "        for j, ((inputs, context), labels) in enumerate(pbar):\n",
    "            out_steps = pad_packed_sequence(labels, batch_first=True, padding_value=-999)[1]\n",
    "            \n",
    "            outputs = model(inputs.float(), context.float())\n",
    "            \n",
    "            # Pad packed labels and outputs\n",
    "            pad_labels, _ = pad_packed_sequence(labels, batch_first=True, padding_value=-999)\n",
    "            pad_outputs, _ = pad_packed_sequence(outputs, batch_first=True, padding_value=-999)\n",
    "\n",
    "            val_running_loss += criterion(pad_outputs, pad_labels.float())  # MSE per batch\n",
    "            pbar.set_description(\n",
    "                f\"Validation loss = {val_running_loss / (j+1):.5f}\\t\"\n",
    "            )\n",
    "    val_history.append(val_running_loss / (j+1))"
   ]
  },
  {
   "cell_type": "code",
   "execution_count": 39,
   "metadata": {
    "cell_id": "00025-a7a14689-0b6a-42a1-9d44-fa1c25b8b17d",
    "deepnote_cell_type": "code",
    "execution_millis": 108,
    "execution_start": 1607530931816,
    "output_cleared": false,
    "source_hash": "5826ba46"
   },
   "outputs": [
    {
     "data": {
      "image/png": "[encoded data removed]",
      "text/plain": [
       "<Figure size 432x288 with 1 Axes>"
      ]
     },
     "metadata": {
      "needs_background": "light"
     },
     "output_type": "display_data"
    }
   ],
   "source": [
    "plt.plot(history, label=\"train\")\n",
    "plt.plot(val_history, label=\"val\")\n",
    "plt.legend()\n",
    "plt.show()"
   ]
  },
  {
   "cell_type": "code",
   "execution_count": 40,
   "metadata": {
    "cell_id": "00026-cbff31b0-2b9d-4e8a-a479-5162767505ec",
    "deepnote_cell_type": "code",
    "execution_millis": 18576,
    "execution_start": 1607530934992,
    "output_cleared": false,
    "source_hash": "dfc1c833"
   },
   "outputs": [
    {
     "name": "stderr",
     "output_type": "stream",
     "text": [
      "Loss 0.05144: 100%|██████████| 167/167 [00:20<00:00,  8.13it/s]"
     ]
    },
    {
     "name": "stdout",
     "output_type": "stream",
     "text": [
      "0.05143630019531271\n"
     ]
    },
    {
     "name": "stderr",
     "output_type": "stream",
     "text": [
      "\n"
     ]
    }
   ],
   "source": [
    "score = evaluate(model, train, target_col=target_col)\n",
    "print(score)"
   ]
  },
  {
   "cell_type": "code",
   "execution_count": 75,
   "metadata": {
    "cell_id": "00027-c54c7713-ed6a-4352-aeda-c337b1630bc8",
    "deepnote_cell_type": "code",
    "execution_millis": 289,
    "execution_start": 1607530959192,
    "output_cleared": false,
    "source_hash": "cb993f14"
   },
   "outputs": [
    {
     "name": "stdout",
     "output_type": "stream",
     "text": [
      "torch.Size([12, 25, 13])\n",
      "torch.Size([12, 39, 8])\n"
     ]
    },
    {
     "data": {
      "image/png": "[encoded data removed]",
      "text/plain": [
       "<Figure size 720x432 with 1 Axes>"
      ]
     },
     "metadata": {
      "needs_background": "light"
     },
     "output_type": "display_data"
    }
   ],
   "source": [
    "for (inputs, context), labels in train:\n",
    "    outputs = model(inputs.float(), context.float())\n",
    "    \n",
    "    inputs, inputs_len = pad_packed_sequence(inputs, batch_first=True, padding_value=-999)\n",
    "    labels, labels_len = pad_packed_sequence(labels, batch_first=True, padding_value=-999)\n",
    "    outputs, outputs_len = pad_packed_sequence(outputs, batch_first=True, padding_value=-999)\n",
    "    outputs = outputs.detach().numpy()\n",
    "    \n",
    "    print(inputs.shape) \n",
    "    print(labels.shape)\n",
    "    \n",
    "    plt.figure(figsize=(10, 6))\n",
    "    plt.plot(\n",
    "        np.arange(0, inputs_len[0]), \n",
    "        inputs[0, :inputs_len[0], target_col]\n",
    "    )\n",
    "    plt.plot(\n",
    "        np.arange(inputs_len[0], labels_len[0]+inputs_len[0]), \n",
    "        labels[0, :labels_len[0], target_col], \"r--\", label=\"target\"\n",
    "    )\n",
    "    plt.plot(\n",
    "        np.arange(inputs_len[0], outputs_len[0]+inputs_len[0]), \n",
    "        outputs[0, :outputs_len[0], target_col], \"k--\", label=\"prediction\"\n",
    "    )    \n",
    "    plt.legend()\n",
    "    plt.show()\n",
    "    break"
   ]
  },
  {
   "cell_type": "code",
   "execution_count": null,
   "metadata": {
    "cell_id": "00028-23d12ded-8059-47a7-b6af-26c61d7592c8",
    "deepnote_cell_type": "code"
   },
   "outputs": [],
   "source": []
  }
 ],
 "metadata": {
  "deepnote_execution_queue": [
   {
    "cellId": "00024-b1145b5f-6ab5-45a1-8888-0b1d939a0bf5",
    "msgId": "5041796a-db1d-4cff-9cf9-6b44baae1cbb",
    "sessionId": "104c7940-ff96-4d35-a129-a5929be0e584"
   }
  ],
  "deepnote_notebook_id": "fd4a10bc-5dc7-4a92-8521-0483fd1a5dfe",
  "kernelspec": {
   "display_name": "Python 3",
   "language": "python",
   "name": "python3"
  },
  "language_info": {
   "codemirror_mode": {
    "name": "ipython",
    "version": 3
   },
   "file_extension": ".py",
   "mimetype": "text/x-python",
   "name": "python",
   "nbconvert_exporter": "python",
   "pygments_lexer": "ipython3",
   "version": "3.7.5"
  }
 },
 "nbformat": 4,
 "nbformat_minor": 4
}

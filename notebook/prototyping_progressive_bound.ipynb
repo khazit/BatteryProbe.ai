{
 "cells": [
  {
   "cell_type": "code",
   "execution_count": 1,
   "metadata": {
    "cell_id": "00000-362067a1-2976-4859-b1d9-3eac43118e83",
    "deepnote_cell_type": "code",
    "execution_millis": 61,
    "execution_start": 1608652559372,
    "output_cleared": false,
    "source_hash": "2f19d1f9"
   },
   "outputs": [],
   "source": [
    "%load_ext autoreload\n",
    "%autoreload 2"
   ]
  },
  {
   "cell_type": "markdown",
   "metadata": {
    "cell_id": "00001-90a8fbd9-e2e6-408e-9512-e5836b554ae9",
    "deepnote_cell_type": "markdown",
    "output_cleared": false,
    "tags": []
   },
   "source": [
    "HACK"
   ]
  },
  {
   "cell_type": "code",
   "execution_count": 2,
   "metadata": {
    "cell_id": "00001-6e1653f3-1c61-4410-998a-683d8ddedc11",
    "deepnote_cell_type": "code",
    "execution_millis": 18,
    "execution_start": 1608652560659,
    "output_cleared": false,
    "source_hash": "60df598d"
   },
   "outputs": [],
   "source": [
    "from batteryprobe.data import create_data_loader\n",
    "from batteryprobe.loops import evaluate"
   ]
  },
  {
   "cell_type": "code",
   "execution_count": 3,
   "metadata": {
    "cell_id": "00002-7defe7a8-dd63-4984-85ac-ac88ca9461ff",
    "deepnote_cell_type": "code",
    "execution_millis": 18,
    "execution_start": 1608652561294,
    "output_cleared": false,
    "source_hash": "60258ea7"
   },
   "outputs": [],
   "source": [
    "import pandas as pd\n",
    "import seaborn as sns\n",
    "from torch.nn.utils.rnn import pad_packed_sequence\n",
    "import matplotlib.pyplot as plt"
   ]
  },
  {
   "cell_type": "code",
   "execution_count": 4,
   "metadata": {
    "cell_id": "00003-8afc16a5-a0a3-48ca-b3c7-8cfe0dd99fa5",
    "deepnote_cell_type": "code",
    "execution_millis": 17,
    "execution_start": 1608652561889,
    "output_cleared": false,
    "source_hash": "fe27c6c8"
   },
   "outputs": [],
   "source": [
    "import logging\n",
    "logging.getLogger('matplotlib').setLevel(logging.ERROR)\n",
    "\n",
    "logger = logging.getLogger()\n",
    "logger.setLevel(logging.DEBUG)"
   ]
  },
  {
   "cell_type": "code",
   "execution_count": 6,
   "metadata": {
    "cell_id": "00004-1b6adde7-96b7-4af9-8f1d-bcf1950532cb",
    "deepnote_cell_type": "code",
    "execution_millis": 659,
    "execution_start": 1608652562481,
    "output_cleared": false,
    "source_hash": "14335f83"
   },
   "outputs": [],
   "source": [
    "df = pd.read_csv(\"all.csv\")\n",
    "df = df.iloc[::9]"
   ]
  },
  {
   "cell_type": "code",
   "execution_count": 54,
   "metadata": {
    "cell_id": "00005-74ddd156-4113-4759-9228-dd0cb075d0f9",
    "deepnote_cell_type": "code",
    "execution_millis": 18,
    "execution_start": 1608652707504,
    "output_cleared": false,
    "source_hash": "ad73710d"
   },
   "outputs": [],
   "source": [
    "params = {\n",
    "    \"max_gap_between_sessions\": 400,\n",
    "    \"min_num_points_per_session\": 10,\n",
    "    \"min_session_duration\": 600,\n",
    "    \"label_lower_bound\": 0.6,\n",
    "    \"label_upper_bound\": 0.3, \n",
    "    \"progressive_bound\": True,\n",
    "    \"label_bounds\": [0.8, 0.6, 0.4],\n",
    "    \"lstm_layers\": 1,\n",
    "    \"train_split\": 0.7,\n",
    "    \"features\": [\n",
    "#         'charge_full',\n",
    "#         'current_now',\n",
    "#         'n_running_threads',\n",
    "#         'load_average_5',\n",
    "#         'load_average_1',\n",
    "#         'load_average_15',\n",
    "#         'voltage_now',\n",
    "#         'cpu_temp',\n",
    "#         'fans_rpm',\n",
    "#         'charge_now',\n",
    "        'capacity',\n",
    "    ],\n",
    "    \"context\": [\n",
    "        'epoch_sin',\n",
    "        'epoch_cos',\n",
    "        'battery_status_Charging',\n",
    "        'battery_status_Discharging',\n",
    "        'os_linux',\n",
    "        'os_macos',\n",
    "        'charge_full_design',\n",
    "    ],\n",
    "    \"batch_size\": 12,\n",
    "    \"repeat\": 5,\n",
    "    \"debug\": False,\n",
    "    \"n_data_workers\": 4,\n",
    "    \"prefetch\": 2,\n",
    "    \"t2v_k\": 5\n",
    "}"
   ]
  },
  {
   "cell_type": "code",
   "execution_count": 56,
   "metadata": {
    "cell_id": "00008-5cf798f4-cc5b-40c8-81cf-98868a566988",
    "deepnote_cell_type": "code",
    "execution_millis": 6991,
    "execution_start": 1608652713403,
    "output_cleared": false,
    "scrolled": false,
    "source_hash": "457b7134"
   },
   "outputs": [
    {
     "name": "stderr",
     "output_type": "stream",
     "text": [
      "INFO:root:20875 data points\n",
      "DEBUG:root:13370f11455f4f36a0680b9725189375 - 3507 points\n",
      "DEBUG:root:Extracted 102 sessions\n",
      "DEBUG:root:5fbc9f85604740eb85dbf9dbd495de67 - 631 points\n",
      "DEBUG:root:Extracted 22 sessions\n",
      "DEBUG:root:0a236299cff2433fbd19467990418ba4 - 4875 points\n",
      "DEBUG:root:Extracted 109 sessions\n",
      "DEBUG:root:73b12e7317274a1ea491b1a8b21d6eb0 - 128 points\n",
      "DEBUG:root:Extracted 3 sessions\n",
      "DEBUG:root:6c328af026994ab5ae14d1eb27d92e2b - 9726 points\n",
      "DEBUG:root:Extracted 263 sessions\n",
      "DEBUG:root:e18acda9486c41fc8d19777cd114ac39 - 2007 points\n",
      "DEBUG:root:Extracted 60 sessions\n",
      "INFO:root:Extracted 559 sessions\n",
      "INFO:root:Progressive training bound: Loading multiple train sessions with different bounds\n"
     ]
    }
   ],
   "source": [
    "train_dataloaders, val_dataloaders = create_data_loader(df, params)"
   ]
  },
  {
   "cell_type": "code",
   "execution_count": 58,
   "metadata": {
    "cell_id": "00009-35b5c0f9-bb10-46fd-8ab3-0a93c8c771ee",
    "deepnote_cell_type": "code",
    "execution_millis": 19,
    "execution_start": 1608652731221,
    "output_cleared": false,
    "source_hash": "a5137b8b"
   },
   "outputs": [
    {
     "name": "stdout",
     "output_type": "stream",
     "text": [
      "3 3\n",
      "55 14\n",
      "55 14\n",
      "55 14\n"
     ]
    }
   ],
   "source": [
    "print(len(train_dataloaders), len(val_dataloaders))\n",
    "print(len(train_dataloaders[0]), len(val_dataloaders[0]))\n",
    "print(len(train_dataloaders[1]), len(val_dataloaders[1]))\n",
    "print(len(train_dataloaders[2]), len(val_dataloaders[2]))"
   ]
  },
  {
   "cell_type": "code",
   "execution_count": 59,
   "metadata": {
    "cell_id": "00010-eb08e4e4-51db-42b8-aa6d-5f51c30e189c",
    "deepnote_cell_type": "code",
    "execution_millis": 470,
    "execution_start": 1608652733454,
    "output_cleared": false,
    "source_hash": "e12e3bae"
   },
   "outputs": [
    {
     "name": "stdout",
     "output_type": "stream",
     "text": [
      "torch.Size([12, 94, 8])\n",
      "tensor([31, 25, 17, 16, 20, 23, 39, 14, 18, 16, 24, 94])\n",
      "torch.Size([12, 24, 7])\n",
      "tensor([ 8,  7,  5,  5,  6,  6, 10,  4,  5,  5,  7, 24])\n",
      "torch.Size([12, 118])\n",
      "tensor([ 39,  32,  22,  21,  26,  29,  49,  18,  23,  21,  31, 118])\n",
      "torch.Size([12, 40, 8])\n",
      "tensor([15, 40, 13, 37, 20, 17, 34, 31, 40, 23, 33, 20])\n",
      "torch.Size([12, 28, 7])\n",
      "tensor([11, 27, 10, 25, 14, 12, 24, 22, 28, 16, 22, 14])\n",
      "torch.Size([12, 68])\n",
      "tensor([26, 67, 23, 62, 34, 29, 58, 53, 68, 39, 55, 34])\n",
      "torch.Size([12, 39, 8])\n",
      "tensor([15, 39, 23, 36,  6, 16, 12,  5, 11, 13, 10, 18])\n",
      "torch.Size([12, 60, 7])\n",
      "tensor([24, 60, 35, 54,  9, 24, 19,  9, 18, 21, 17, 28])\n",
      "torch.Size([12, 99])\n",
      "tensor([39, 99, 58, 90, 15, 40, 31, 14, 29, 34, 27, 46])\n"
     ]
    }
   ],
   "source": [
    "for train in train_dataloaders:    \n",
    "    for (inputs, time, context), label in train:\n",
    "        unpacked_inputs, lengths = pad_packed_sequence(inputs, batch_first=True, padding_value=-999)\n",
    "        print(unpacked_inputs.shape)\n",
    "        print(lengths)\n",
    "        unpacked_context, lengths = pad_packed_sequence(context, batch_first=True, padding_value=-999)\n",
    "        print(unpacked_context.shape)\n",
    "        print(lengths)\n",
    "        unpacked_time, lengths = pad_packed_sequence(time, batch_first=True, padding_value=-999)\n",
    "        print(unpacked_time.shape)\n",
    "        print(lengths)\n",
    "        break"
   ]
  },
  {
   "cell_type": "code",
   "execution_count": 60,
   "metadata": {
    "cell_id": "00011-5bff705a-8272-4715-bde5-4726dd0a5e77",
    "deepnote_cell_type": "code",
    "execution_millis": 17,
    "execution_start": 1608652739452,
    "output_cleared": false,
    "source_hash": "7baa2a64"
   },
   "outputs": [],
   "source": [
    "target_col = params[\"features\"].index(\"capacity\")"
   ]
  },
  {
   "cell_type": "code",
   "execution_count": 61,
   "metadata": {
    "cell_id": "00012-39a231d9-45bc-49a1-aa60-28f3ef78eb02",
    "deepnote_cell_type": "code",
    "execution_millis": 16,
    "execution_start": 1608652740225,
    "output_cleared": false,
    "source_hash": "21e32291"
   },
   "outputs": [],
   "source": [
    "import matplotlib.pyplot as plt\n",
    "import numpy as np"
   ]
  },
  {
   "cell_type": "code",
   "execution_count": 62,
   "metadata": {
    "cell_id": "00013-7366a7de-be45-4f0e-b28f-39d9c42e6bde",
    "deepnote_cell_type": "code",
    "execution_millis": 18,
    "execution_start": 1608652740875,
    "output_cleared": false,
    "source_hash": "fc03451"
   },
   "outputs": [],
   "source": [
    "from random import randint\n",
    "randint(0, 10)\n",
    "import matplotlib.dates as mdate\n",
    "from batteryprobe.utils import plot_sample"
   ]
  },
  {
   "cell_type": "code",
   "execution_count": 72,
   "metadata": {
    "cell_id": "00014-6f245afc-ee8f-4fee-bfd9-d2e46236d924",
    "deepnote_cell_type": "code",
    "execution_millis": 603,
    "execution_start": 1608652756737,
    "output_cleared": false,
    "scrolled": false,
    "source_hash": "d7f1f1e2"
   },
   "outputs": [
    {
     "data": {
      "image/png": "[encoded data removed]",
      "text/plain": [
       "<Figure size 576x360 with 1 Axes>"
      ]
     },
     "metadata": {
      "needs_background": "light"
     },
     "output_type": "display_data"
    }
   ],
   "source": [
    "plot_sample(train_dataloaders[2], target_col=target_col, n=1)"
   ]
  },
  {
   "cell_type": "code",
   "execution_count": 73,
   "metadata": {
    "cell_id": "00015-6950ba98-7029-45c7-87b5-298ef18258a2",
    "deepnote_cell_type": "code",
    "execution_millis": 17,
    "execution_start": 1608652759732,
    "output_cleared": false,
    "source_hash": "f2c25015"
   },
   "outputs": [],
   "source": [
    "import torch\n",
    "import torch.nn as nn\n",
    "import torch.nn.functional as F\n",
    "import torch.optim as optim\n",
    "from tqdm import tqdm\n",
    "from torch.nn.utils.rnn import pad_sequence, pack_padded_sequence\n",
    "\n",
    "from batteryprobe.utils import pad_and_pack, masked_l1\n",
    "from batteryprobe.models import Baseline"
   ]
  },
  {
   "cell_type": "code",
   "execution_count": 74,
   "metadata": {
    "cell_id": "00016-f90bee9a-6adb-43cd-86ce-b8f94ad0182c",
    "deepnote_cell_type": "code",
    "execution_millis": 217,
    "execution_start": 1608652760914,
    "output_cleared": false,
    "source_hash": "70e2b842"
   },
   "outputs": [
    {
     "data": {
      "image/png": "[encoded data removed]",
      "text/plain": [
       "<Figure size 576x360 with 1 Axes>"
      ]
     },
     "metadata": {
      "needs_background": "light"
     },
     "output_type": "display_data"
    }
   ],
   "source": [
    "baseline = Baseline(target_col)\n",
    "plot_sample(val_dataloaders[0], target_col, n=1, model=baseline)"
   ]
  },
  {
   "cell_type": "code",
   "execution_count": 75,
   "metadata": {
    "cell_id": "00017-8d062bda-772a-46ac-9bc8-768f3e1f97fb",
    "deepnote_cell_type": "code",
    "execution_millis": 433,
    "execution_start": 1608652764080,
    "output_cleared": false,
    "source_hash": "10dc021c"
   },
   "outputs": [
    {
     "name": "stderr",
     "output_type": "stream",
     "text": [
      "Loss 2.05942: 100%|██████████| 14/14 [00:00<00:00, 29.50it/s]\n"
     ]
    }
   ],
   "source": [
    "score = evaluate(baseline, val_dataloaders[0], target_col=target_col)"
   ]
  },
  {
   "cell_type": "code",
   "execution_count": 76,
   "metadata": {
    "cell_id": "00020-3896a10b-f4f1-4557-9e5e-bba2cae3a47c",
    "deepnote_cell_type": "code",
    "execution_millis": 16,
    "execution_start": 1608652768552,
    "output_cleared": false,
    "source_hash": "4d2e06a2",
    "tags": []
   },
   "outputs": [],
   "source": [
    "from torch.nn import init\n",
    "import math\n",
    "from torch.nn.utils.rnn import pad_sequence"
   ]
  },
  {
   "cell_type": "code",
   "execution_count": 77,
   "metadata": {
    "cell_id": "00019-8a803ef3-d8c9-445c-b46c-4acbb61450ea",
    "deepnote_cell_type": "code",
    "execution_millis": 18,
    "execution_start": 1608652769028,
    "output_cleared": false,
    "source_hash": "2efd5168",
    "tags": []
   },
   "outputs": [],
   "source": [
    "class Time2Vec(nn.Module):\n",
    "    def __init__(self, k, periodic_activation_function=torch.sin):\n",
    "        super().__init__()\n",
    "        self.k = k\n",
    "        self.periodic_activation_fn = periodic_activation_function\n",
    "        omega = torch.Tensor(k)\n",
    "        self.omega = nn.Parameter(omega)\n",
    "        phi = torch.Tensor(k)\n",
    "        self.phi = nn.Parameter(phi)\n",
    "        \n",
    "        # Initialization phase and frequency\n",
    "        bound = 1\n",
    "        init.uniform_(self.omega, -bound, bound)\n",
    "        init.uniform_(self.phi, -bound, bound)\n",
    "\n",
    "    def forward(self, t):\n",
    "        return self.periodic_activation_fn(t @ self.omega[None, :] + self.phi)"
   ]
  },
  {
   "cell_type": "code",
   "execution_count": 78,
   "metadata": {
    "cell_id": "00022-d04c9ab7-92ba-471c-b3bd-6e44f3cdaac9",
    "deepnote_cell_type": "code",
    "execution_millis": 20,
    "execution_start": 1608652771430,
    "output_cleared": false,
    "source_hash": "f4ed9dd6",
    "tags": []
   },
   "outputs": [
    {
     "data": {
      "text/plain": [
       "torch.Size([5, 10, 5])"
      ]
     },
     "execution_count": 78,
     "metadata": {},
     "output_type": "execute_result"
    }
   ],
   "source": [
    "t2v = Time2Vec(params[\"t2v_k\"])\n",
    "inputs = torch.ones((5, 10, 1))\n",
    "outputs = t2v(inputs)\n",
    "outputs.shape"
   ]
  },
  {
   "cell_type": "code",
   "execution_count": null,
   "metadata": {
    "cell_id": "00024-fa561c66-6402-4422-919c-1d8a7b494721",
    "deepnote_cell_type": "code",
    "execution_millis": 18,
    "output_cleared": false,
    "source_hash": "514f0980",
    "tags": []
   },
   "outputs": [],
   "source": [
    "element 1 \n",
    "1 2 3 4 5 6 7 8 9\n",
    "inputs  1 2 3 4 5 6\n",
    "targets 7 8 9\n",
    "time 1 2 3 4 5 6 7 8 9\n",
    "\n",
    "element 2\n",
    "1 2 3 4\n",
    "inputs  1 2 3\n",
    "targets 4\n",
    "time    1 2 3 4\n",
    "\n",
    "inputs\n",
    "1 2 3 4 5 6\n",
    "1 2 3 0 0 0\n",
    "\n",
    "targets\n",
    "7 8 9\n",
    "4 0 0\n",
    "\n",
    "time \n",
    "el1 1 2 3 4 5 6 7 8 9\n",
    "el2 1 2 3 4 0 0 0 0 0\n"
   ]
  },
  {
   "cell_type": "code",
   "execution_count": 50,
   "metadata": {
    "cell_id": "00018-440a0ff6-f6a8-4b86-8dbd-f235fd546d80",
    "deepnote_cell_type": "code",
    "execution_millis": 19,
    "execution_start": 1608652774019,
    "output_cleared": false,
    "source_hash": "8edc254f"
   },
   "outputs": [],
   "source": [
    " # pylint: disable=C0103\n",
    "class AutoRegressive(nn.Module):\n",
    "    \"\"\"AutoRegressive model.\n",
    "\n",
    "    Attributes:\n",
    "        in_size (int): Size in input of the model.\n",
    "        out_size (init): Size in output of the model.\n",
    "        lstm (nn.LSTM): The lstm layer.\n",
    "        dense (nn.Linear): The dense layer.\n",
    "\n",
    "    Args:\n",
    "        params(dict): Parameters dict.\n",
    "    \"\"\"\n",
    "\n",
    "    def __init__(self, params):\n",
    "        self.params = params\n",
    "        super().__init__()\n",
    "        self.in_size = len(self.params[\"features\"]) + len(self.params[\"context\"]) + params[\"t2v_k\"]\n",
    "        self.out_size = len(self.params[\"features\"])\n",
    "        self.t2v = Time2Vec(k=params[\"t2v_k\"])\n",
    "        self.lstm = nn.LSTM(self.in_size, 64, num_layers=params[\"lstm_layers\"], batch_first=True)\n",
    "        self.dense = nn.Linear(64, self.out_size)\n",
    "\n",
    "    # pylint: disable=W0613\n",
    "    def forward(self, x, time, context):\n",
    "        \"\"\"Forward pass.\n",
    "\n",
    "        Args:\n",
    "            x (torch.Tensor): inputs\n",
    "            time (torch.nn.utils.rnn.PackedSequence): Timestamps\n",
    "            context (torch.nn.utils.rnn.PackedSequence): Context\n",
    "        \"\"\"\n",
    "        # Embed time and add it to inputs \n",
    "        x, time_embedding = self.embed_time(x, time)\n",
    "\n",
    "        # Pass into warmup\n",
    "        x, warmup_state = self._warmup(x)\n",
    "\n",
    "        # Unpack context for outputs prediction\n",
    "        context, lengths_context = pad_packed_sequence(\n",
    "            context,\n",
    "            batch_first=True,\n",
    "            padding_value=-999\n",
    "        )\n",
    "        # Loop over every element of a batch\n",
    "        batch = []\n",
    "        for i, element in enumerate(x):\n",
    "            # State corresponding to a single element in a batch\n",
    "            state = (  # (num_layers, batch, hidden_size)\n",
    "                torch.unsqueeze(warmup_state[0][:, i, :], 1),\n",
    "                torch.unsqueeze(warmup_state[1][:, i, :], 1),\n",
    "            )\n",
    "\n",
    "            # Add first prediction from warmup\n",
    "            timestamps = [element[None, None, :]]\n",
    "\n",
    "            # Predict values\n",
    "            # pylint: disable=C0103\n",
    "            for t in range(lengths_context[i] - 1):\n",
    "                # The order here is important. Inputs features should be first\n",
    "                in_tensor = torch.cat([element, context[i, t, :], time_embedding[i, t, :]], axis=-1)[None, None, :]\n",
    "                x, state = self.lstm(in_tensor, state)\n",
    "                x = self.dense(x)\n",
    "                timestamps.append(x)\n",
    "            batch.append(torch.cat(timestamps, 1)[0])\n",
    "\n",
    "        # Pack and pad sequence\n",
    "        return pad_and_pack(batch)\n",
    "\n",
    "    def _warmup(self, x):\n",
    "        x, state = self.lstm(x)\n",
    "        x, lengths = pad_packed_sequence(x, batch_first=True, padding_value=-999)\n",
    "        x = torch.stack([x[i, length - 1] for i, length in enumerate(lengths)])\n",
    "        x = self.dense(x)\n",
    "        return x, state\n",
    "\n",
    "    def embed_time(self, x, time):\n",
    "        \"\"\"Use Time2Vec layer to compute a time embedding and add it to input features.\"\"\"\n",
    "        time, time_len = pad_packed_sequence(time,\n",
    "            batch_first=True, padding_value=-999\n",
    "        )\n",
    "        time_embedding = self.t2v(torch.unsqueeze(time, -1))\n",
    "        x, x_len = pad_packed_sequence(x, \n",
    "            batch_first=True, padding_value=-999\n",
    "        )\n",
    "        inputs_time_embedding = pad_sequence([\n",
    "            time_embedding[i, :length] for i, length in enumerate(x_len)],\n",
    "            batch_first=True, padding_value=-999\n",
    "        )\n",
    "        x = torch.cat((x, inputs_time_embedding), 2)\n",
    "        x = pack_padded_sequence(x, x_len, batch_first=True, enforce_sorted=False)\n",
    "\n",
    "        return x, time_embedding"
   ]
  },
  {
   "cell_type": "code",
   "execution_count": 51,
   "metadata": {
    "cell_id": "00019-c3e8a044-673b-492f-8af6-dd4896026eae",
    "deepnote_cell_type": "code",
    "execution_millis": 19,
    "execution_start": 1608652776844,
    "output_cleared": false,
    "source_hash": "de92d558"
   },
   "outputs": [],
   "source": [
    "model = AutoRegressive(params)"
   ]
  },
  {
   "cell_type": "code",
   "execution_count": 52,
   "metadata": {
    "cell_id": "00020-8b1bd141-5dff-4592-94fe-a1a947874666",
    "deepnote_cell_type": "code",
    "execution_millis": 533,
    "execution_start": 1608652777551,
    "output_cleared": false,
    "scrolled": false,
    "source_hash": "20573cee"
   },
   "outputs": [],
   "source": [
    "for train in train_dataloaders:\n",
    "    for (inputs, time, context), labels in train:\n",
    "        model(inputs.float(), time.float(), context.float())\n",
    "        break "
   ]
  },
  {
   "cell_type": "code",
   "execution_count": 53,
   "metadata": {
    "cell_id": "00021-90c04622-9315-4945-a6f7-c90567866652",
    "deepnote_cell_type": "code",
    "execution_millis": 219724,
    "execution_start": 1608652813637,
    "output_cleared": false,
    "scrolled": false,
    "source_hash": "658b56f6"
   },
   "outputs": [
    {
     "name": "stderr",
     "output_type": "stream",
     "text": [
      "Epoch #1 - Loss = 63.95952\t:   7%|▋         | 11/163 [00:01<00:27,  5.62it/s]\n"
     ]
    },
    {
     "ename": "KeyboardInterrupt",
     "evalue": "",
     "output_type": "error",
     "traceback": [
      "\u001b[0;31m---------------------------------------------------------------------------\u001b[0m",
      "\u001b[0;31mKeyboardInterrupt\u001b[0m                         Traceback (most recent call last)",
      "\u001b[0;32m<ipython-input-53-254aa76f4de5>\u001b[0m in \u001b[0;36m<module>\u001b[0;34m\u001b[0m\n\u001b[1;32m     29\u001b[0m \u001b[0;34m\u001b[0m\u001b[0m\n\u001b[1;32m     30\u001b[0m         \u001b[0mloss\u001b[0m \u001b[0;34m=\u001b[0m \u001b[0mcriterion\u001b[0m\u001b[0;34m(\u001b[0m\u001b[0mpad_outputs\u001b[0m\u001b[0;34m,\u001b[0m \u001b[0mpad_labels\u001b[0m\u001b[0;34m.\u001b[0m\u001b[0mfloat\u001b[0m\u001b[0;34m(\u001b[0m\u001b[0;34m)\u001b[0m\u001b[0;34m)\u001b[0m\u001b[0;34m\u001b[0m\u001b[0;34m\u001b[0m\u001b[0m\n\u001b[0;32m---> 31\u001b[0;31m         \u001b[0mloss\u001b[0m\u001b[0;34m.\u001b[0m\u001b[0mbackward\u001b[0m\u001b[0;34m(\u001b[0m\u001b[0;34m)\u001b[0m\u001b[0;34m\u001b[0m\u001b[0;34m\u001b[0m\u001b[0m\n\u001b[0m\u001b[1;32m     32\u001b[0m         \u001b[0moptimizer\u001b[0m\u001b[0;34m.\u001b[0m\u001b[0mstep\u001b[0m\u001b[0;34m(\u001b[0m\u001b[0;34m)\u001b[0m\u001b[0;34m\u001b[0m\u001b[0;34m\u001b[0m\u001b[0m\n\u001b[1;32m     33\u001b[0m         \u001b[0mrunning_loss\u001b[0m \u001b[0;34m+=\u001b[0m \u001b[0mloss\u001b[0m\u001b[0;34m.\u001b[0m\u001b[0mitem\u001b[0m\u001b[0;34m(\u001b[0m\u001b[0;34m)\u001b[0m\u001b[0;34m\u001b[0m\u001b[0;34m\u001b[0m\u001b[0m\n",
      "\u001b[0;32m~/Library/Caches/pypoetry/virtualenvs/batteryprobe-Np1qeyyo-py3.7/lib/python3.7/site-packages/torch/tensor.py\u001b[0m in \u001b[0;36mbackward\u001b[0;34m(self, gradient, retain_graph, create_graph)\u001b[0m\n\u001b[1;32m    219\u001b[0m                 \u001b[0mretain_graph\u001b[0m\u001b[0;34m=\u001b[0m\u001b[0mretain_graph\u001b[0m\u001b[0;34m,\u001b[0m\u001b[0;34m\u001b[0m\u001b[0;34m\u001b[0m\u001b[0m\n\u001b[1;32m    220\u001b[0m                 create_graph=create_graph)\n\u001b[0;32m--> 221\u001b[0;31m         \u001b[0mtorch\u001b[0m\u001b[0;34m.\u001b[0m\u001b[0mautograd\u001b[0m\u001b[0;34m.\u001b[0m\u001b[0mbackward\u001b[0m\u001b[0;34m(\u001b[0m\u001b[0mself\u001b[0m\u001b[0;34m,\u001b[0m \u001b[0mgradient\u001b[0m\u001b[0;34m,\u001b[0m \u001b[0mretain_graph\u001b[0m\u001b[0;34m,\u001b[0m \u001b[0mcreate_graph\u001b[0m\u001b[0;34m)\u001b[0m\u001b[0;34m\u001b[0m\u001b[0;34m\u001b[0m\u001b[0m\n\u001b[0m\u001b[1;32m    222\u001b[0m \u001b[0;34m\u001b[0m\u001b[0m\n\u001b[1;32m    223\u001b[0m     \u001b[0;32mdef\u001b[0m \u001b[0mregister_hook\u001b[0m\u001b[0;34m(\u001b[0m\u001b[0mself\u001b[0m\u001b[0;34m,\u001b[0m \u001b[0mhook\u001b[0m\u001b[0;34m)\u001b[0m\u001b[0;34m:\u001b[0m\u001b[0;34m\u001b[0m\u001b[0;34m\u001b[0m\u001b[0m\n",
      "\u001b[0;32m~/Library/Caches/pypoetry/virtualenvs/batteryprobe-Np1qeyyo-py3.7/lib/python3.7/site-packages/torch/autograd/__init__.py\u001b[0m in \u001b[0;36mbackward\u001b[0;34m(tensors, grad_tensors, retain_graph, create_graph, grad_variables)\u001b[0m\n\u001b[1;32m    130\u001b[0m     Variable._execution_engine.run_backward(\n\u001b[1;32m    131\u001b[0m         \u001b[0mtensors\u001b[0m\u001b[0;34m,\u001b[0m \u001b[0mgrad_tensors_\u001b[0m\u001b[0;34m,\u001b[0m \u001b[0mretain_graph\u001b[0m\u001b[0;34m,\u001b[0m \u001b[0mcreate_graph\u001b[0m\u001b[0;34m,\u001b[0m\u001b[0;34m\u001b[0m\u001b[0;34m\u001b[0m\u001b[0m\n\u001b[0;32m--> 132\u001b[0;31m         allow_unreachable=True)  # allow_unreachable flag\n\u001b[0m\u001b[1;32m    133\u001b[0m \u001b[0;34m\u001b[0m\u001b[0m\n\u001b[1;32m    134\u001b[0m \u001b[0;34m\u001b[0m\u001b[0m\n",
      "\u001b[0;31mKeyboardInterrupt\u001b[0m: "
     ]
    }
   ],
   "source": [
    "N_EPOCHS = 10\n",
    "LEARNING_RATE = 3e-3\n",
    "\n",
    "criterion = masked_l1\n",
    "optimizer = optim.Adam(model.parameters(), lr=LEARNING_RATE)\n",
    "\n",
    "history = []\n",
    "val_history = []\n",
    "best_loss = 9999\n",
    "\n",
    "\n",
    "for epoch in range(N_EPOCHS):\n",
    "    \n",
    "    ################################################################\n",
    "    # Training \n",
    "    ################################################################\n",
    "    running_loss = 0\n",
    "    pbar = tqdm(train_dataloaders[0]) \n",
    "    for i, ((inputs, time, context), labels) in enumerate(pbar):\n",
    "        optimizer.zero_grad()\n",
    "        \n",
    "        # Find number of out steps for each element in the batch\n",
    "        out_steps = pad_packed_sequence(labels, batch_first=True, padding_value=-999)[1]\n",
    "        outputs = model(inputs.float(), time.float(), context.float())\n",
    "        \n",
    "        # Pad packed labels and outputs\n",
    "        pad_labels, _ = pad_packed_sequence(labels, batch_first=True, padding_value=-999)\n",
    "        pad_outputs, _ = pad_packed_sequence(outputs, batch_first=True, padding_value=-999)\n",
    "\n",
    "        loss = criterion(pad_outputs, pad_labels.float())\n",
    "        loss.backward()\n",
    "        optimizer.step()\n",
    "        running_loss += loss.item()\n",
    "        if not (i % 5):\n",
    "            pbar.set_description(\n",
    "                f\"Epoch #{epoch+1} - Loss = {running_loss / (i+1):.5f}\\t\"\n",
    "            )\n",
    "    history.append(running_loss / (i+1))\n",
    "\n",
    "    ################################################################\n",
    "    # Validation\n",
    "    ################################################################\n",
    "    val_running_loss = 0\n",
    "    pbar = tqdm(val_dataloaders[0])\n",
    "    with torch.no_grad():\n",
    "        for j, ((inputs, time, context), labels) in enumerate(pbar):\n",
    "            out_steps = pad_packed_sequence(labels, batch_first=True, padding_value=-999)[1]\n",
    "            \n",
    "            outputs = model(inputs.float(), time.float(), context.float())\n",
    "            \n",
    "            # Pad packed labels and outputs\n",
    "            pad_labels, _ = pad_packed_sequence(labels, batch_first=True, padding_value=-999)\n",
    "            pad_outputs, _ = pad_packed_sequence(outputs, batch_first=True, padding_value=-999)\n",
    "\n",
    "            loss = criterion(pad_outputs, pad_labels.float())\n",
    "            val_running_loss += loss  # MSE per batch\n",
    "            pbar.set_description(\n",
    "                f\"Validation loss = {val_running_loss / (j+1):.5f}\\t\"\n",
    "            )\n",
    "        # Callbacks\n",
    "        # Keep best model\n",
    "        #if (val_running_loss / (j+1)) < best_loss:\n",
    "        #    logging.info(f\"Validation loss improved from {best_loss} to {(val_running_loss / (j+1))}\")\n",
    "        #    best_loss = (val_running_loss / (j+1))\n",
    "        #    torch.save(model.state_dict(), \"model.pt\")\n",
    "            \n",
    "    val_history.append(val_running_loss / (j+1))"
   ]
  },
  {
   "cell_type": "code",
   "execution_count": 29,
   "metadata": {
    "cell_id": "00022-3a4a01c3-01c6-4b2f-9841-9a1cb18037ee",
    "deepnote_cell_type": "code",
    "execution_millis": 159,
    "output_cleared": false,
    "source_hash": "5826ba46"
   },
   "outputs": [
    {
     "data": {
      "image/png": "[encoded data removed]",
      "text/plain": [
       "<Figure size 432x288 with 1 Axes>"
      ]
     },
     "metadata": {
      "needs_background": "light"
     },
     "output_type": "display_data"
    }
   ],
   "source": [
    "plt.plot(history, label=\"train\")\n",
    "plt.plot(val_history, label=\"val\")\n",
    "plt.legend()\n",
    "plt.show()"
   ]
  },
  {
   "cell_type": "code",
   "execution_count": null,
   "metadata": {
    "cell_id": "00023-c552dc24-6c73-4e80-8dbf-a4d15b191711",
    "deepnote_cell_type": "code",
    "execution_millis": 24,
    "output_cleared": false,
    "source_hash": "dd330be"
   },
   "outputs": [],
   "source": [
    "#model = AutoRegressive(params)\n",
    "#model.load_state_dict(torch.load(\"model.pt\"))\n",
    "#model.eval()"
   ]
  },
  {
   "cell_type": "code",
   "execution_count": null,
   "metadata": {
    "cell_id": "00024-4e6d90c5-d738-4df4-8c63-60261f3c01c3",
    "deepnote_cell_type": "code",
    "execution_millis": 6306,
    "output_cleared": false,
    "source_hash": "ab4a6298"
   },
   "outputs": [],
   "source": [
    "score = evaluate(model, train, target_col=target_col)"
   ]
  },
  {
   "cell_type": "code",
   "execution_count": null,
   "metadata": {
    "cell_id": "00025-fdceff1f-7657-412e-a101-6e053dfd2da4",
    "deepnote_cell_type": "code",
    "execution_millis": 3320,
    "output_cleared": false,
    "scrolled": false,
    "source_hash": "2e74c190"
   },
   "outputs": [],
   "source": [
    "plot_sample(train_dataloaders[2], target_col, n=10, model=model)"
   ]
  },
  {
   "cell_type": "code",
   "execution_count": null,
   "metadata": {
    "cell_id": "00026-bbc09622-6914-446d-8118-d83b588147c8",
    "deepnote_cell_type": "code",
    "execution_millis": 99,
    "output_cleared": false,
    "source_hash": "7818a539"
   },
   "outputs": [],
   "source": [
    "criterion = masked_l1\n",
    "n = 5\n",
    "bad_apples = [0 for _ in range(n)]\n",
    "res = [None for _ in range(n)]\n",
    "pbar = tqdm(val)\n",
    "\n",
    "with torch.no_grad():\n",
    "    for i, ((inputs, time, context), labels) in enumerate(pbar):\n",
    "        outputs = model(inputs.float(), time.float(), context.float())\n",
    "        inputs, inputs_len = pad_packed_sequence(inputs,\n",
    "            batch_first=True, padding_value=-999)\n",
    "        time, time_len = pad_packed_sequence(time,\n",
    "            batch_first=True, padding_value=-999)\n",
    "        context, context_len = pad_packed_sequence(context,\n",
    "            batch_first=True, padding_value=-999)\n",
    "        labels, labels_len = pad_packed_sequence(labels,\n",
    "            batch_first=True, padding_value=-999)\n",
    "        outputs, outputs_len = pad_packed_sequence(outputs,\n",
    "            batch_first=True, padding_value=-999)\n",
    "\n",
    "        for j in range(inputs.shape[0]):\n",
    "            loss = criterion(\n",
    "                outputs[j, :, target_col],\n",
    "                labels[j, :, target_col],\n",
    "            )\n",
    "            smallest = min(bad_apples)\n",
    "            if loss > smallest:\n",
    "                idx = bad_apples.index(smallest)\n",
    "                bad_apples[idx] = loss\n",
    "                res[idx] = (\n",
    "                    (inputs[j], time[j], context[j], outputs[j],\n",
    "                     inputs_len[j], labels_len[i]), \n",
    "                    labels[j]\n",
    "                )\n",
    "                \n",
    "for (x, time, context, outputs, len_i, len_o), y in res:\n",
    "    fig, ax = plt.subplots(figsize=(8, 5))\n",
    "    date = mdate.epoch2num(time)\n",
    "\n",
    "    ax.plot_date(\n",
    "        date[:len_i],\n",
    "        x[:len_i, target_col],\n",
    "        \"bo-\", label=\"Inputs\"\n",
    "    )\n",
    "    ax.plot_date(\n",
    "        date[len_i:len_i+len_o],\n",
    "        y[:len_o, target_col],\n",
    "        \"ro-\", label=\"Targets\"\n",
    "    )\n",
    "    ax.plot_date(\n",
    "        date[len_i:len_i+len_o],\n",
    "        outputs[:len_o, target_col],\n",
    "        \"k--\", label=\"Predictions\"\n",
    "    )\n",
    "    \n",
    "    date_fmt = '%d/%m %H:%M:%S'\n",
    "    date_formatter = mdate.DateFormatter(date_fmt)\n",
    "    ax.xaxis.set_major_formatter(date_formatter)\n",
    "    fig.autofmt_xdate()\n",
    "    plt.ylim([0, 120])\n",
    "    plt.legend()\n",
    "    plt.show()"
   ]
  },
  {
   "cell_type": "code",
   "execution_count": null,
   "metadata": {
    "cell_id": "00027-eb8b2e18-dce7-403f-954e-6d6ea286dbbe",
    "deepnote_cell_type": "code",
    "output_cleared": false,
    "source_hash": "cb95518"
   },
   "outputs": [],
   "source": [
    "bad_apples"
   ]
  },
  {
   "cell_type": "code",
   "execution_count": null,
   "metadata": {
    "cell_id": "00028-26f92a7c-ba65-448a-9b0c-e3b7ad7449fa",
    "deepnote_cell_type": "code",
    "output_cleared": false,
    "source_hash": "e2ce9a6d"
   },
   "outputs": [],
   "source": [
    "res"
   ]
  },
  {
   "cell_type": "code",
   "execution_count": null,
   "metadata": {
    "cell_id": "00029-6f13603c-2094-4909-8853-ba8fa80d18cc",
    "deepnote_cell_type": "code",
    "output_cleared": false,
    "source_hash": "b623e53d"
   },
   "outputs": [],
   "source": []
  }
 ],
 "metadata": {
  "deepnote_execution_queue": [],
  "deepnote_notebook_id": "78ad39cf-e503-4d4d-b794-eb5c16b6aa11",
  "kernelspec": {
   "display_name": "Python 3",
   "language": "python",
   "name": "python3"
  },
  "language_info": {
   "codemirror_mode": {
    "name": "ipython",
    "version": 3
   },
   "file_extension": ".py",
   "mimetype": "text/x-python",
   "name": "python",
   "nbconvert_exporter": "python",
   "pygments_lexer": "ipython3",
   "version": "3.7.5"
  }
 },
 "nbformat": 4,
 "nbformat_minor": 4
}

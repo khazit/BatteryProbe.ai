{
 "cells": [
  {
   "cell_type": "code",
   "execution_count": 1,
   "metadata": {},
   "outputs": [],
   "source": [
    "import os\n",
    "import datetime\n",
    "\n",
    "import IPython\n",
    "import IPython.display\n",
    "import matplotlib as mpl\n",
    "import matplotlib.pyplot as plt\n",
    "import numpy as np\n",
    "import pandas as pd\n",
    "import seaborn as sns"
   ]
  },
  {
   "cell_type": "code",
   "execution_count": 2,
   "metadata": {},
   "outputs": [],
   "source": [
    "if not os.path.isfile(\"jena_climate_2009_2016.csv\"):\n",
    "    !wget https://storage.googleapis.com/tensorflow/tf-keras-datasets/jena_climate_2009_2016.csv.zip\n",
    "    !unzip jena_climate_2009_2016.csv.zip\n",
    "    !rm jena_climate_2009_2016.csv.zip"
   ]
  },
  {
   "cell_type": "code",
   "execution_count": 3,
   "metadata": {},
   "outputs": [],
   "source": [
    "df = pd.read_csv(\"jena_climate_2009_2016.csv\")\n",
    "# slice [start:stop:step], starting from index 5 take every 6th record.\n",
    "df = df[5::6]\n",
    "date_time = pd.to_datetime(df.pop('Date Time'), format='%d.%m.%Y %H:%M:%S')"
   ]
  },
  {
   "cell_type": "code",
   "execution_count": 4,
   "metadata": {},
   "outputs": [
    {
     "data": {
      "text/html": [
       "<div>\n",
       "<style scoped>\n",
       "    .dataframe tbody tr th:only-of-type {\n",
       "        vertical-align: middle;\n",
       "    }\n",
       "\n",
       "    .dataframe tbody tr th {\n",
       "        vertical-align: top;\n",
       "    }\n",
       "\n",
       "    .dataframe thead th {\n",
       "        text-align: right;\n",
       "    }\n",
       "</style>\n",
       "<table border=\"1\" class=\"dataframe\">\n",
       "  <thead>\n",
       "    <tr style=\"text-align: right;\">\n",
       "      <th></th>\n",
       "      <th>p (mbar)</th>\n",
       "      <th>T (degC)</th>\n",
       "      <th>Tpot (K)</th>\n",
       "      <th>Tdew (degC)</th>\n",
       "      <th>rh (%)</th>\n",
       "      <th>VPmax (mbar)</th>\n",
       "      <th>VPact (mbar)</th>\n",
       "      <th>VPdef (mbar)</th>\n",
       "      <th>sh (g/kg)</th>\n",
       "      <th>H2OC (mmol/mol)</th>\n",
       "      <th>rho (g/m**3)</th>\n",
       "      <th>wv (m/s)</th>\n",
       "      <th>max. wv (m/s)</th>\n",
       "      <th>wd (deg)</th>\n",
       "    </tr>\n",
       "  </thead>\n",
       "  <tbody>\n",
       "    <tr>\n",
       "      <th>5</th>\n",
       "      <td>996.50</td>\n",
       "      <td>-8.05</td>\n",
       "      <td>265.38</td>\n",
       "      <td>-8.78</td>\n",
       "      <td>94.40</td>\n",
       "      <td>3.33</td>\n",
       "      <td>3.14</td>\n",
       "      <td>0.19</td>\n",
       "      <td>1.96</td>\n",
       "      <td>3.15</td>\n",
       "      <td>1307.86</td>\n",
       "      <td>0.21</td>\n",
       "      <td>0.63</td>\n",
       "      <td>192.7</td>\n",
       "    </tr>\n",
       "    <tr>\n",
       "      <th>11</th>\n",
       "      <td>996.62</td>\n",
       "      <td>-8.88</td>\n",
       "      <td>264.54</td>\n",
       "      <td>-9.77</td>\n",
       "      <td>93.20</td>\n",
       "      <td>3.12</td>\n",
       "      <td>2.90</td>\n",
       "      <td>0.21</td>\n",
       "      <td>1.81</td>\n",
       "      <td>2.91</td>\n",
       "      <td>1312.25</td>\n",
       "      <td>0.25</td>\n",
       "      <td>0.63</td>\n",
       "      <td>190.3</td>\n",
       "    </tr>\n",
       "    <tr>\n",
       "      <th>17</th>\n",
       "      <td>996.84</td>\n",
       "      <td>-8.81</td>\n",
       "      <td>264.59</td>\n",
       "      <td>-9.66</td>\n",
       "      <td>93.50</td>\n",
       "      <td>3.13</td>\n",
       "      <td>2.93</td>\n",
       "      <td>0.20</td>\n",
       "      <td>1.83</td>\n",
       "      <td>2.94</td>\n",
       "      <td>1312.18</td>\n",
       "      <td>0.18</td>\n",
       "      <td>0.63</td>\n",
       "      <td>167.2</td>\n",
       "    </tr>\n",
       "    <tr>\n",
       "      <th>23</th>\n",
       "      <td>996.99</td>\n",
       "      <td>-9.05</td>\n",
       "      <td>264.34</td>\n",
       "      <td>-10.02</td>\n",
       "      <td>92.60</td>\n",
       "      <td>3.07</td>\n",
       "      <td>2.85</td>\n",
       "      <td>0.23</td>\n",
       "      <td>1.78</td>\n",
       "      <td>2.85</td>\n",
       "      <td>1313.61</td>\n",
       "      <td>0.10</td>\n",
       "      <td>0.38</td>\n",
       "      <td>240.0</td>\n",
       "    </tr>\n",
       "    <tr>\n",
       "      <th>29</th>\n",
       "      <td>997.46</td>\n",
       "      <td>-9.63</td>\n",
       "      <td>263.72</td>\n",
       "      <td>-10.65</td>\n",
       "      <td>92.20</td>\n",
       "      <td>2.94</td>\n",
       "      <td>2.71</td>\n",
       "      <td>0.23</td>\n",
       "      <td>1.69</td>\n",
       "      <td>2.71</td>\n",
       "      <td>1317.19</td>\n",
       "      <td>0.40</td>\n",
       "      <td>0.88</td>\n",
       "      <td>157.0</td>\n",
       "    </tr>\n",
       "    <tr>\n",
       "      <th>...</th>\n",
       "      <td>...</td>\n",
       "      <td>...</td>\n",
       "      <td>...</td>\n",
       "      <td>...</td>\n",
       "      <td>...</td>\n",
       "      <td>...</td>\n",
       "      <td>...</td>\n",
       "      <td>...</td>\n",
       "      <td>...</td>\n",
       "      <td>...</td>\n",
       "      <td>...</td>\n",
       "      <td>...</td>\n",
       "      <td>...</td>\n",
       "      <td>...</td>\n",
       "    </tr>\n",
       "    <tr>\n",
       "      <th>420521</th>\n",
       "      <td>1002.18</td>\n",
       "      <td>-0.98</td>\n",
       "      <td>272.01</td>\n",
       "      <td>-5.36</td>\n",
       "      <td>72.00</td>\n",
       "      <td>5.69</td>\n",
       "      <td>4.09</td>\n",
       "      <td>1.59</td>\n",
       "      <td>2.54</td>\n",
       "      <td>4.08</td>\n",
       "      <td>1280.70</td>\n",
       "      <td>0.87</td>\n",
       "      <td>1.36</td>\n",
       "      <td>190.6</td>\n",
       "    </tr>\n",
       "    <tr>\n",
       "      <th>420527</th>\n",
       "      <td>1001.40</td>\n",
       "      <td>-1.40</td>\n",
       "      <td>271.66</td>\n",
       "      <td>-6.84</td>\n",
       "      <td>66.29</td>\n",
       "      <td>5.51</td>\n",
       "      <td>3.65</td>\n",
       "      <td>1.86</td>\n",
       "      <td>2.27</td>\n",
       "      <td>3.65</td>\n",
       "      <td>1281.87</td>\n",
       "      <td>1.02</td>\n",
       "      <td>1.92</td>\n",
       "      <td>225.4</td>\n",
       "    </tr>\n",
       "    <tr>\n",
       "      <th>420533</th>\n",
       "      <td>1001.19</td>\n",
       "      <td>-2.75</td>\n",
       "      <td>270.32</td>\n",
       "      <td>-6.90</td>\n",
       "      <td>72.90</td>\n",
       "      <td>4.99</td>\n",
       "      <td>3.64</td>\n",
       "      <td>1.35</td>\n",
       "      <td>2.26</td>\n",
       "      <td>3.63</td>\n",
       "      <td>1288.02</td>\n",
       "      <td>0.71</td>\n",
       "      <td>1.56</td>\n",
       "      <td>158.7</td>\n",
       "    </tr>\n",
       "    <tr>\n",
       "      <th>420539</th>\n",
       "      <td>1000.65</td>\n",
       "      <td>-2.89</td>\n",
       "      <td>270.22</td>\n",
       "      <td>-7.15</td>\n",
       "      <td>72.30</td>\n",
       "      <td>4.93</td>\n",
       "      <td>3.57</td>\n",
       "      <td>1.37</td>\n",
       "      <td>2.22</td>\n",
       "      <td>3.57</td>\n",
       "      <td>1288.03</td>\n",
       "      <td>0.35</td>\n",
       "      <td>0.68</td>\n",
       "      <td>216.7</td>\n",
       "    </tr>\n",
       "    <tr>\n",
       "      <th>420545</th>\n",
       "      <td>1000.11</td>\n",
       "      <td>-3.93</td>\n",
       "      <td>269.23</td>\n",
       "      <td>-8.09</td>\n",
       "      <td>72.60</td>\n",
       "      <td>4.56</td>\n",
       "      <td>3.31</td>\n",
       "      <td>1.25</td>\n",
       "      <td>2.06</td>\n",
       "      <td>3.31</td>\n",
       "      <td>1292.41</td>\n",
       "      <td>0.56</td>\n",
       "      <td>1.00</td>\n",
       "      <td>202.6</td>\n",
       "    </tr>\n",
       "  </tbody>\n",
       "</table>\n",
       "<p>70091 rows × 14 columns</p>\n",
       "</div>"
      ],
      "text/plain": [
       "        p (mbar)  T (degC)  Tpot (K)  Tdew (degC)  rh (%)  VPmax (mbar)  \\\n",
       "5         996.50     -8.05    265.38        -8.78   94.40          3.33   \n",
       "11        996.62     -8.88    264.54        -9.77   93.20          3.12   \n",
       "17        996.84     -8.81    264.59        -9.66   93.50          3.13   \n",
       "23        996.99     -9.05    264.34       -10.02   92.60          3.07   \n",
       "29        997.46     -9.63    263.72       -10.65   92.20          2.94   \n",
       "...          ...       ...       ...          ...     ...           ...   \n",
       "420521   1002.18     -0.98    272.01        -5.36   72.00          5.69   \n",
       "420527   1001.40     -1.40    271.66        -6.84   66.29          5.51   \n",
       "420533   1001.19     -2.75    270.32        -6.90   72.90          4.99   \n",
       "420539   1000.65     -2.89    270.22        -7.15   72.30          4.93   \n",
       "420545   1000.11     -3.93    269.23        -8.09   72.60          4.56   \n",
       "\n",
       "        VPact (mbar)  VPdef (mbar)  sh (g/kg)  H2OC (mmol/mol)  rho (g/m**3)  \\\n",
       "5               3.14          0.19       1.96             3.15       1307.86   \n",
       "11              2.90          0.21       1.81             2.91       1312.25   \n",
       "17              2.93          0.20       1.83             2.94       1312.18   \n",
       "23              2.85          0.23       1.78             2.85       1313.61   \n",
       "29              2.71          0.23       1.69             2.71       1317.19   \n",
       "...              ...           ...        ...              ...           ...   \n",
       "420521          4.09          1.59       2.54             4.08       1280.70   \n",
       "420527          3.65          1.86       2.27             3.65       1281.87   \n",
       "420533          3.64          1.35       2.26             3.63       1288.02   \n",
       "420539          3.57          1.37       2.22             3.57       1288.03   \n",
       "420545          3.31          1.25       2.06             3.31       1292.41   \n",
       "\n",
       "        wv (m/s)  max. wv (m/s)  wd (deg)  \n",
       "5           0.21           0.63     192.7  \n",
       "11          0.25           0.63     190.3  \n",
       "17          0.18           0.63     167.2  \n",
       "23          0.10           0.38     240.0  \n",
       "29          0.40           0.88     157.0  \n",
       "...          ...            ...       ...  \n",
       "420521      0.87           1.36     190.6  \n",
       "420527      1.02           1.92     225.4  \n",
       "420533      0.71           1.56     158.7  \n",
       "420539      0.35           0.68     216.7  \n",
       "420545      0.56           1.00     202.6  \n",
       "\n",
       "[70091 rows x 14 columns]"
      ]
     },
     "execution_count": 4,
     "metadata": {},
     "output_type": "execute_result"
    }
   ],
   "source": [
    "df"
   ]
  },
  {
   "cell_type": "code",
   "execution_count": 5,
   "metadata": {},
   "outputs": [
    {
     "data": {
      "text/plain": [
       "5        2009-01-01 01:00:00\n",
       "11       2009-01-01 02:00:00\n",
       "17       2009-01-01 03:00:00\n",
       "23       2009-01-01 04:00:00\n",
       "29       2009-01-01 05:00:00\n",
       "                 ...        \n",
       "420521   2016-12-31 19:10:00\n",
       "420527   2016-12-31 20:10:00\n",
       "420533   2016-12-31 21:10:00\n",
       "420539   2016-12-31 22:10:00\n",
       "420545   2016-12-31 23:10:00\n",
       "Name: Date Time, Length: 70091, dtype: datetime64[ns]"
      ]
     },
     "execution_count": 5,
     "metadata": {},
     "output_type": "execute_result"
    }
   ],
   "source": [
    "date_time"
   ]
  },
  {
   "cell_type": "code",
   "execution_count": 6,
   "metadata": {},
   "outputs": [
    {
     "data": {
      "image/png": "[encoded data removed]",
      "text/plain": [
       "<Figure size 432x288 with 3 Axes>"
      ]
     },
     "metadata": {
      "needs_background": "light"
     },
     "output_type": "display_data"
    },
    {
     "data": {
      "image/png": "[encoded data removed]",
      "text/plain": [
       "<Figure size 432x288 with 3 Axes>"
      ]
     },
     "metadata": {
      "needs_background": "light"
     },
     "output_type": "display_data"
    }
   ],
   "source": [
    "plot_cols = ['T (degC)', 'p (mbar)', 'rho (g/m**3)']\n",
    "plot_features = df[plot_cols]\n",
    "plot_features.index = date_time\n",
    "_ = plot_features.plot(subplots=True)\n",
    "\n",
    "plot_features = df[plot_cols][:480]\n",
    "plot_features.index = date_time[:480]\n",
    "_ = plot_features.plot(subplots=True)"
   ]
  },
  {
   "cell_type": "code",
   "execution_count": 7,
   "metadata": {},
   "outputs": [
    {
     "data": {
      "text/html": [
       "<div>\n",
       "<style scoped>\n",
       "    .dataframe tbody tr th:only-of-type {\n",
       "        vertical-align: middle;\n",
       "    }\n",
       "\n",
       "    .dataframe tbody tr th {\n",
       "        vertical-align: top;\n",
       "    }\n",
       "\n",
       "    .dataframe thead th {\n",
       "        text-align: right;\n",
       "    }\n",
       "</style>\n",
       "<table border=\"1\" class=\"dataframe\">\n",
       "  <thead>\n",
       "    <tr style=\"text-align: right;\">\n",
       "      <th></th>\n",
       "      <th>count</th>\n",
       "      <th>mean</th>\n",
       "      <th>std</th>\n",
       "      <th>min</th>\n",
       "      <th>25%</th>\n",
       "      <th>50%</th>\n",
       "      <th>75%</th>\n",
       "      <th>max</th>\n",
       "    </tr>\n",
       "  </thead>\n",
       "  <tbody>\n",
       "    <tr>\n",
       "      <th>p (mbar)</th>\n",
       "      <td>70091.0</td>\n",
       "      <td>989.212842</td>\n",
       "      <td>8.358886</td>\n",
       "      <td>913.60</td>\n",
       "      <td>984.20</td>\n",
       "      <td>989.57</td>\n",
       "      <td>994.720</td>\n",
       "      <td>1015.29</td>\n",
       "    </tr>\n",
       "    <tr>\n",
       "      <th>T (degC)</th>\n",
       "      <td>70091.0</td>\n",
       "      <td>9.450482</td>\n",
       "      <td>8.423384</td>\n",
       "      <td>-22.76</td>\n",
       "      <td>3.35</td>\n",
       "      <td>9.41</td>\n",
       "      <td>15.480</td>\n",
       "      <td>37.28</td>\n",
       "    </tr>\n",
       "    <tr>\n",
       "      <th>Tpot (K)</th>\n",
       "      <td>70091.0</td>\n",
       "      <td>283.493086</td>\n",
       "      <td>8.504424</td>\n",
       "      <td>250.85</td>\n",
       "      <td>277.44</td>\n",
       "      <td>283.46</td>\n",
       "      <td>289.530</td>\n",
       "      <td>311.21</td>\n",
       "    </tr>\n",
       "    <tr>\n",
       "      <th>Tdew (degC)</th>\n",
       "      <td>70091.0</td>\n",
       "      <td>4.956471</td>\n",
       "      <td>6.730081</td>\n",
       "      <td>-24.80</td>\n",
       "      <td>0.24</td>\n",
       "      <td>5.21</td>\n",
       "      <td>10.080</td>\n",
       "      <td>23.06</td>\n",
       "    </tr>\n",
       "    <tr>\n",
       "      <th>rh (%)</th>\n",
       "      <td>70091.0</td>\n",
       "      <td>76.009788</td>\n",
       "      <td>16.474920</td>\n",
       "      <td>13.88</td>\n",
       "      <td>65.21</td>\n",
       "      <td>79.30</td>\n",
       "      <td>89.400</td>\n",
       "      <td>100.00</td>\n",
       "    </tr>\n",
       "    <tr>\n",
       "      <th>VPmax (mbar)</th>\n",
       "      <td>70091.0</td>\n",
       "      <td>13.576576</td>\n",
       "      <td>7.739883</td>\n",
       "      <td>0.97</td>\n",
       "      <td>7.77</td>\n",
       "      <td>11.82</td>\n",
       "      <td>17.610</td>\n",
       "      <td>63.77</td>\n",
       "    </tr>\n",
       "    <tr>\n",
       "      <th>VPact (mbar)</th>\n",
       "      <td>70091.0</td>\n",
       "      <td>9.533968</td>\n",
       "      <td>4.183658</td>\n",
       "      <td>0.81</td>\n",
       "      <td>6.22</td>\n",
       "      <td>8.86</td>\n",
       "      <td>12.360</td>\n",
       "      <td>28.25</td>\n",
       "    </tr>\n",
       "    <tr>\n",
       "      <th>VPdef (mbar)</th>\n",
       "      <td>70091.0</td>\n",
       "      <td>4.042536</td>\n",
       "      <td>4.898549</td>\n",
       "      <td>0.00</td>\n",
       "      <td>0.87</td>\n",
       "      <td>2.19</td>\n",
       "      <td>5.300</td>\n",
       "      <td>46.01</td>\n",
       "    </tr>\n",
       "    <tr>\n",
       "      <th>sh (g/kg)</th>\n",
       "      <td>70091.0</td>\n",
       "      <td>6.022560</td>\n",
       "      <td>2.655812</td>\n",
       "      <td>0.51</td>\n",
       "      <td>3.92</td>\n",
       "      <td>5.59</td>\n",
       "      <td>7.800</td>\n",
       "      <td>18.07</td>\n",
       "    </tr>\n",
       "    <tr>\n",
       "      <th>H2OC (mmol/mol)</th>\n",
       "      <td>70091.0</td>\n",
       "      <td>9.640437</td>\n",
       "      <td>4.234862</td>\n",
       "      <td>0.81</td>\n",
       "      <td>6.29</td>\n",
       "      <td>8.96</td>\n",
       "      <td>12.490</td>\n",
       "      <td>28.74</td>\n",
       "    </tr>\n",
       "    <tr>\n",
       "      <th>rho (g/m**3)</th>\n",
       "      <td>70091.0</td>\n",
       "      <td>1216.061232</td>\n",
       "      <td>39.974263</td>\n",
       "      <td>1059.45</td>\n",
       "      <td>1187.47</td>\n",
       "      <td>1213.80</td>\n",
       "      <td>1242.765</td>\n",
       "      <td>1393.54</td>\n",
       "    </tr>\n",
       "    <tr>\n",
       "      <th>wv (m/s)</th>\n",
       "      <td>70091.0</td>\n",
       "      <td>1.702567</td>\n",
       "      <td>65.447512</td>\n",
       "      <td>-9999.00</td>\n",
       "      <td>0.99</td>\n",
       "      <td>1.76</td>\n",
       "      <td>2.860</td>\n",
       "      <td>14.01</td>\n",
       "    </tr>\n",
       "    <tr>\n",
       "      <th>max. wv (m/s)</th>\n",
       "      <td>70091.0</td>\n",
       "      <td>2.963041</td>\n",
       "      <td>75.597657</td>\n",
       "      <td>-9999.00</td>\n",
       "      <td>1.76</td>\n",
       "      <td>2.98</td>\n",
       "      <td>4.740</td>\n",
       "      <td>23.50</td>\n",
       "    </tr>\n",
       "    <tr>\n",
       "      <th>wd (deg)</th>\n",
       "      <td>70091.0</td>\n",
       "      <td>174.789095</td>\n",
       "      <td>86.619431</td>\n",
       "      <td>0.00</td>\n",
       "      <td>125.30</td>\n",
       "      <td>198.10</td>\n",
       "      <td>234.000</td>\n",
       "      <td>360.00</td>\n",
       "    </tr>\n",
       "  </tbody>\n",
       "</table>\n",
       "</div>"
      ],
      "text/plain": [
       "                   count         mean        std      min      25%      50%  \\\n",
       "p (mbar)         70091.0   989.212842   8.358886   913.60   984.20   989.57   \n",
       "T (degC)         70091.0     9.450482   8.423384   -22.76     3.35     9.41   \n",
       "Tpot (K)         70091.0   283.493086   8.504424   250.85   277.44   283.46   \n",
       "Tdew (degC)      70091.0     4.956471   6.730081   -24.80     0.24     5.21   \n",
       "rh (%)           70091.0    76.009788  16.474920    13.88    65.21    79.30   \n",
       "VPmax (mbar)     70091.0    13.576576   7.739883     0.97     7.77    11.82   \n",
       "VPact (mbar)     70091.0     9.533968   4.183658     0.81     6.22     8.86   \n",
       "VPdef (mbar)     70091.0     4.042536   4.898549     0.00     0.87     2.19   \n",
       "sh (g/kg)        70091.0     6.022560   2.655812     0.51     3.92     5.59   \n",
       "H2OC (mmol/mol)  70091.0     9.640437   4.234862     0.81     6.29     8.96   \n",
       "rho (g/m**3)     70091.0  1216.061232  39.974263  1059.45  1187.47  1213.80   \n",
       "wv (m/s)         70091.0     1.702567  65.447512 -9999.00     0.99     1.76   \n",
       "max. wv (m/s)    70091.0     2.963041  75.597657 -9999.00     1.76     2.98   \n",
       "wd (deg)         70091.0   174.789095  86.619431     0.00   125.30   198.10   \n",
       "\n",
       "                      75%      max  \n",
       "p (mbar)          994.720  1015.29  \n",
       "T (degC)           15.480    37.28  \n",
       "Tpot (K)          289.530   311.21  \n",
       "Tdew (degC)        10.080    23.06  \n",
       "rh (%)             89.400   100.00  \n",
       "VPmax (mbar)       17.610    63.77  \n",
       "VPact (mbar)       12.360    28.25  \n",
       "VPdef (mbar)        5.300    46.01  \n",
       "sh (g/kg)           7.800    18.07  \n",
       "H2OC (mmol/mol)    12.490    28.74  \n",
       "rho (g/m**3)     1242.765  1393.54  \n",
       "wv (m/s)            2.860    14.01  \n",
       "max. wv (m/s)       4.740    23.50  \n",
       "wd (deg)          234.000   360.00  "
      ]
     },
     "execution_count": 7,
     "metadata": {},
     "output_type": "execute_result"
    }
   ],
   "source": [
    "df.describe().transpose()"
   ]
  },
  {
   "cell_type": "code",
   "execution_count": 8,
   "metadata": {},
   "outputs": [
    {
     "data": {
      "text/plain": [
       "0.0"
      ]
     },
     "execution_count": 8,
     "metadata": {},
     "output_type": "execute_result"
    }
   ],
   "source": [
    "wv = df['wv (m/s)']\n",
    "bad_wv = wv == -9999.0\n",
    "wv[bad_wv] = 0.0\n",
    "\n",
    "max_wv = df['max. wv (m/s)']\n",
    "bad_max_wv = max_wv == -9999.0\n",
    "max_wv[bad_max_wv] = 0.0\n",
    "\n",
    "# The above inplace edits are reflected in the DataFrame\n",
    "df['wv (m/s)'].min()"
   ]
  },
  {
   "cell_type": "code",
   "execution_count": 9,
   "metadata": {},
   "outputs": [
    {
     "data": {
      "text/plain": [
       "Text(0, 0.5, 'Wind Velocity [m/s]')"
      ]
     },
     "execution_count": 9,
     "metadata": {},
     "output_type": "execute_result"
    },
    {
     "data": {
      "image/png": "[encoded data removed]",
      "text/plain": [
       "<Figure size 432x288 with 2 Axes>"
      ]
     },
     "metadata": {
      "needs_background": "light"
     },
     "output_type": "display_data"
    }
   ],
   "source": [
    "plt.hist2d(df['wd (deg)'], df['wv (m/s)'], bins=(50, 50), vmax=400)\n",
    "plt.colorbar()\n",
    "plt.xlabel('Wind Direction [deg]')\n",
    "plt.ylabel('Wind Velocity [m/s]')"
   ]
  },
  {
   "cell_type": "code",
   "execution_count": 10,
   "metadata": {},
   "outputs": [],
   "source": [
    "wv = df.pop('wv (m/s)')\n",
    "max_wv = df.pop('max. wv (m/s)')\n",
    "\n",
    "# Convert to radians.\n",
    "wd_rad = df.pop('wd (deg)')*np.pi / 180\n",
    "\n",
    "# Calculate the wind x and y components.\n",
    "df['Wx'] = wv*np.cos(wd_rad)\n",
    "df['Wy'] = wv*np.sin(wd_rad)\n",
    "\n",
    "# Calculate the max wind x and y components.\n",
    "df['max Wx'] = max_wv*np.cos(wd_rad)\n",
    "df['max Wy'] = max_wv*np.sin(wd_rad)"
   ]
  },
  {
   "cell_type": "code",
   "execution_count": 11,
   "metadata": {},
   "outputs": [
    {
     "data": {
      "text/plain": [
       "(-11.305513973134667, 8.24469928549079, -8.27438540335515, 7.7338312955467785)"
      ]
     },
     "execution_count": 11,
     "metadata": {},
     "output_type": "execute_result"
    },
    {
     "data": {
      "image/png": "[encoded data removed]",
      "text/plain": [
       "<Figure size 432x288 with 2 Axes>"
      ]
     },
     "metadata": {
      "needs_background": "light"
     },
     "output_type": "display_data"
    }
   ],
   "source": [
    "plt.hist2d(df['Wx'], df['Wy'], bins=(50, 50), vmax=400)\n",
    "plt.colorbar()\n",
    "plt.xlabel('Wind X [m/s]')\n",
    "plt.ylabel('Wind Y [m/s]')\n",
    "ax = plt.gca()\n",
    "ax.axis('tight')"
   ]
  },
  {
   "cell_type": "code",
   "execution_count": 12,
   "metadata": {},
   "outputs": [],
   "source": [
    "timestamp_s = date_time.map(datetime.datetime.timestamp)"
   ]
  },
  {
   "cell_type": "code",
   "execution_count": 13,
   "metadata": {},
   "outputs": [],
   "source": [
    "day = 24*60*60\n",
    "year = (365.2425)*day\n",
    "\n",
    "df['Day sin'] = np.sin(timestamp_s * (2 * np.pi / day))\n",
    "df['Day cos'] = np.cos(timestamp_s * (2 * np.pi / day))\n",
    "df['Year sin'] = np.sin(timestamp_s * (2 * np.pi / year))\n",
    "df['Year cos'] = np.cos(timestamp_s * (2 * np.pi / year))"
   ]
  },
  {
   "cell_type": "code",
   "execution_count": 14,
   "metadata": {},
   "outputs": [
    {
     "data": {
      "text/plain": [
       "Text(0.5, 1.0, 'Time of day signal')"
      ]
     },
     "execution_count": 14,
     "metadata": {},
     "output_type": "execute_result"
    },
    {
     "data": {
      "image/png": "[encoded data removed]",
      "text/plain": [
       "<Figure size 432x288 with 1 Axes>"
      ]
     },
     "metadata": {
      "needs_background": "light"
     },
     "output_type": "display_data"
    }
   ],
   "source": [
    "plt.plot(np.array(df['Day sin'])[:25])\n",
    "plt.plot(np.array(df['Day cos'])[:25])\n",
    "plt.xlabel('Time [h]')\n",
    "plt.title('Time of day signal')\n"
   ]
  },
  {
   "cell_type": "code",
   "execution_count": 15,
   "metadata": {},
   "outputs": [
    {
     "data": {
      "image/png": "[encoded data removed]",
      "text/plain": [
       "<Figure size 432x288 with 1 Axes>"
      ]
     },
     "metadata": {
      "needs_background": "light"
     },
     "output_type": "display_data"
    }
   ],
   "source": [
    "fft = np.fft.rfft(df['T (degC)'])\n",
    "f_per_dataset = np.arange(0, len(fft))\n",
    "\n",
    "n_samples_h = len(df['T (degC)'])\n",
    "hours_per_year = 24*365.2524\n",
    "years_per_dataset = n_samples_h/(hours_per_year)\n",
    "\n",
    "f_per_year = f_per_dataset/years_per_dataset\n",
    "plt.step(f_per_year, np.abs(fft))\n",
    "plt.xscale('log')\n",
    "plt.ylim(0, 400000)\n",
    "plt.xlim([0.1, max(plt.xlim())])\n",
    "plt.xticks([1, 365.2524], labels=['1/Year', '1/day'])\n",
    "_ = plt.xlabel('Frequency (log scale)')\n"
   ]
  },
  {
   "cell_type": "code",
   "execution_count": 16,
   "metadata": {},
   "outputs": [],
   "source": [
    "column_indices = {name: i for i, name in enumerate(df.columns)}\n",
    "\n",
    "n = len(df)\n",
    "train_df = df[0:int(n*0.7)]\n",
    "val_df = df[int(n*0.7):int(n*0.9)]\n",
    "test_df = df[int(n*0.9):]\n",
    "\n",
    "num_features = df.shape[1]"
   ]
  },
  {
   "cell_type": "code",
   "execution_count": 17,
   "metadata": {},
   "outputs": [],
   "source": [
    "train_mean = train_df.mean()\n",
    "train_std = train_df.std()\n",
    "\n",
    "train_df = (train_df - train_mean) / train_std\n",
    "val_df = (val_df - train_mean) / train_std\n",
    "test_df = (test_df - train_mean) / train_std"
   ]
  },
  {
   "cell_type": "code",
   "execution_count": 18,
   "metadata": {},
   "outputs": [
    {
     "data": {
      "image/png": "[encoded data removed]",
      "text/plain": [
       "<Figure size 864x432 with 1 Axes>"
      ]
     },
     "metadata": {
      "needs_background": "light"
     },
     "output_type": "display_data"
    }
   ],
   "source": [
    "df_std = (df - train_mean) / train_std\n",
    "df_std = df_std.melt(var_name='Column', value_name='Normalized')\n",
    "plt.figure(figsize=(12, 6))\n",
    "ax = sns.violinplot(x='Column', y='Normalized', data=df_std)\n",
    "_ = ax.set_xticklabels(df.keys(), rotation=90)\n"
   ]
  },
  {
   "attachments": {
    "image-2.png": {
     "image/png": "[encoded data removed]"
    },
    "image.png": {
     "image/png": "[encoded data removed]"
    }
   },
   "cell_type": "markdown",
   "metadata": {},
   "source": [
    "![image.png](attachment:image.png) ![image-2.png](attachment:image-2.png)"
   ]
  },
  {
   "cell_type": "code",
   "execution_count": 19,
   "metadata": {},
   "outputs": [],
   "source": [
    "import torch\n",
    "from torch.utils.data import Dataset, DataLoader\n",
    "import torch.nn as nn\n",
    "import torch.nn.functional as F\n",
    "import torch.optim as optim\n",
    "from tqdm import tqdm"
   ]
  },
  {
   "cell_type": "code",
   "execution_count": 20,
   "metadata": {},
   "outputs": [],
   "source": [
    "class WindowDataset(Dataset):\n",
    "    \"\"\"\"\"\"\n",
    "    def __init__(self, dataframe, label_columns, input_width, label_width, shift):\n",
    "        self.y = dataframe[label_columns]\n",
    "        self.x = dataframe\n",
    "            \n",
    "        # Work out the window parameters.\n",
    "        self.input_width = input_width\n",
    "        self.label_width = label_width\n",
    "        self.shift = shift\n",
    "        \n",
    "        self.total_window_size = input_width + shift\n",
    "\n",
    "        self.input_slice = slice(0, input_width)\n",
    "        self.input_indices = np.arange(self.total_window_size)[self.input_slice]\n",
    "\n",
    "        self.label_start = self.total_window_size - self.label_width\n",
    "        self.labels_slice = slice(self.label_start, None)\n",
    "        self.label_indices = np.arange(self.total_window_size)[self.labels_slice]\n",
    "\n",
    "    def __len__(self):\n",
    "        return len(self.y) // self.total_window_size\n",
    "    \n",
    "    def __getitem__(self, idx):\n",
    "        return (\n",
    "            self.x.iloc[self.input_indices + self.total_window_size*idx].values, \n",
    "            self.y.iloc[self.label_indices + self.total_window_size*idx].values,\n",
    "        )\n",
    "    \n",
    "    def __repr__(self):\n",
    "        # TODO: debug only\n",
    "        return '\\n'.join([\n",
    "            f'Total window size: {self.total_window_size}',\n",
    "            f'Input indices: {self.input_indices}',\n",
    "            f'Label indices: {self.label_indices}',\n",
    "            f'Label column name(s): {self.y.columns.values}'])\n"
   ]
  },
  {
   "cell_type": "code",
   "execution_count": 21,
   "metadata": {},
   "outputs": [
    {
     "data": {
      "text/html": [
       "<div>\n",
       "<style scoped>\n",
       "    .dataframe tbody tr th:only-of-type {\n",
       "        vertical-align: middle;\n",
       "    }\n",
       "\n",
       "    .dataframe tbody tr th {\n",
       "        vertical-align: top;\n",
       "    }\n",
       "\n",
       "    .dataframe thead th {\n",
       "        text-align: right;\n",
       "    }\n",
       "</style>\n",
       "<table border=\"1\" class=\"dataframe\">\n",
       "  <thead>\n",
       "    <tr style=\"text-align: right;\">\n",
       "      <th></th>\n",
       "      <th>p (mbar)</th>\n",
       "      <th>T (degC)</th>\n",
       "      <th>Tpot (K)</th>\n",
       "      <th>Tdew (degC)</th>\n",
       "      <th>rh (%)</th>\n",
       "      <th>VPmax (mbar)</th>\n",
       "      <th>VPact (mbar)</th>\n",
       "      <th>VPdef (mbar)</th>\n",
       "      <th>sh (g/kg)</th>\n",
       "      <th>H2OC (mmol/mol)</th>\n",
       "      <th>rho (g/m**3)</th>\n",
       "      <th>Wx</th>\n",
       "      <th>Wy</th>\n",
       "      <th>max Wx</th>\n",
       "      <th>max Wy</th>\n",
       "      <th>Day sin</th>\n",
       "      <th>Day cos</th>\n",
       "      <th>Year sin</th>\n",
       "      <th>Year cos</th>\n",
       "    </tr>\n",
       "  </thead>\n",
       "  <tbody>\n",
       "    <tr>\n",
       "      <th>5</th>\n",
       "      <td>0.945308</td>\n",
       "      <td>-1.982473</td>\n",
       "      <td>-2.041888</td>\n",
       "      <td>-1.918973</td>\n",
       "      <td>1.117102</td>\n",
       "      <td>-1.302851</td>\n",
       "      <td>-1.477323</td>\n",
       "      <td>-0.790424</td>\n",
       "      <td>-1.480036</td>\n",
       "      <td>-1.482697</td>\n",
       "      <td>2.218524</td>\n",
       "      <td>0.193409</td>\n",
       "      <td>0.221161</td>\n",
       "      <td>0.111140</td>\n",
       "      <td>0.217928</td>\n",
       "      <td>0.000047</td>\n",
       "      <td>1.414246</td>\n",
       "      <td>-0.062412</td>\n",
       "      <td>1.428455</td>\n",
       "    </tr>\n",
       "    <tr>\n",
       "      <th>11</th>\n",
       "      <td>0.959770</td>\n",
       "      <td>-2.078372</td>\n",
       "      <td>-2.138166</td>\n",
       "      <td>-2.060964</td>\n",
       "      <td>1.044617</td>\n",
       "      <td>-1.330143</td>\n",
       "      <td>-1.534354</td>\n",
       "      <td>-0.786272</td>\n",
       "      <td>-1.536190</td>\n",
       "      <td>-1.539035</td>\n",
       "      <td>2.325708</td>\n",
       "      <td>0.172987</td>\n",
       "      <td>0.222101</td>\n",
       "      <td>0.109458</td>\n",
       "      <td>0.227798</td>\n",
       "      <td>0.366088</td>\n",
       "      <td>1.366061</td>\n",
       "      <td>-0.061389</td>\n",
       "      <td>1.428445</td>\n",
       "    </tr>\n",
       "    <tr>\n",
       "      <th>17</th>\n",
       "      <td>0.986284</td>\n",
       "      <td>-2.070284</td>\n",
       "      <td>-2.132435</td>\n",
       "      <td>-2.045187</td>\n",
       "      <td>1.062738</td>\n",
       "      <td>-1.328843</td>\n",
       "      <td>-1.527225</td>\n",
       "      <td>-0.788348</td>\n",
       "      <td>-1.528703</td>\n",
       "      <td>-1.531992</td>\n",
       "      <td>2.323998</td>\n",
       "      <td>0.207983</td>\n",
       "      <td>0.276266</td>\n",
       "      <td>0.111218</td>\n",
       "      <td>0.324078</td>\n",
       "      <td>0.707185</td>\n",
       "      <td>1.224790</td>\n",
       "      <td>-0.060366</td>\n",
       "      <td>1.428434</td>\n",
       "    </tr>\n",
       "    <tr>\n",
       "      <th>23</th>\n",
       "      <td>1.004362</td>\n",
       "      <td>-2.098014</td>\n",
       "      <td>-2.161090</td>\n",
       "      <td>-2.096820</td>\n",
       "      <td>1.008375</td>\n",
       "      <td>-1.336641</td>\n",
       "      <td>-1.546235</td>\n",
       "      <td>-0.782121</td>\n",
       "      <td>-1.547420</td>\n",
       "      <td>-1.553119</td>\n",
       "      <td>2.358913</td>\n",
       "      <td>0.270343</td>\n",
       "      <td>0.195267</td>\n",
       "      <td>0.246907</td>\n",
       "      <td>0.145176</td>\n",
       "      <td>1.000091</td>\n",
       "      <td>1.000059</td>\n",
       "      <td>-0.059343</td>\n",
       "      <td>1.428423</td>\n",
       "    </tr>\n",
       "    <tr>\n",
       "      <th>29</th>\n",
       "      <td>1.061006</td>\n",
       "      <td>-2.165028</td>\n",
       "      <td>-2.232152</td>\n",
       "      <td>-2.187178</td>\n",
       "      <td>0.984214</td>\n",
       "      <td>-1.353535</td>\n",
       "      <td>-1.579503</td>\n",
       "      <td>-0.782121</td>\n",
       "      <td>-1.581113</td>\n",
       "      <td>-1.585982</td>\n",
       "      <td>2.446320</td>\n",
       "      <td>0.112264</td>\n",
       "      <td>0.350818</td>\n",
       "      <td>0.048640</td>\n",
       "      <td>0.402053</td>\n",
       "      <td>1.224845</td>\n",
       "      <td>0.707185</td>\n",
       "      <td>-0.058320</td>\n",
       "      <td>1.428411</td>\n",
       "    </tr>\n",
       "    <tr>\n",
       "      <th>...</th>\n",
       "      <td>...</td>\n",
       "      <td>...</td>\n",
       "      <td>...</td>\n",
       "      <td>...</td>\n",
       "      <td>...</td>\n",
       "      <td>...</td>\n",
       "      <td>...</td>\n",
       "      <td>...</td>\n",
       "      <td>...</td>\n",
       "      <td>...</td>\n",
       "      <td>...</td>\n",
       "      <td>...</td>\n",
       "      <td>...</td>\n",
       "      <td>...</td>\n",
       "      <td>...</td>\n",
       "      <td>...</td>\n",
       "      <td>...</td>\n",
       "      <td>...</td>\n",
       "      <td>...</td>\n",
       "    </tr>\n",
       "    <tr>\n",
       "      <th>294353</th>\n",
       "      <td>0.169167</td>\n",
       "      <td>0.904892</td>\n",
       "      <td>0.886564</td>\n",
       "      <td>1.571997</td>\n",
       "      <td>0.947972</td>\n",
       "      <td>0.776492</td>\n",
       "      <td>1.984916</td>\n",
       "      <td>-0.493604</td>\n",
       "      <td>1.979016</td>\n",
       "      <td>1.977352</td>\n",
       "      <td>-0.882480</td>\n",
       "      <td>-0.166720</td>\n",
       "      <td>-1.508412</td>\n",
       "      <td>-0.155728</td>\n",
       "      <td>-1.363530</td>\n",
       "      <td>-1.348771</td>\n",
       "      <td>0.425358</td>\n",
       "      <td>-0.853647</td>\n",
       "      <td>-1.155769</td>\n",
       "    </tr>\n",
       "    <tr>\n",
       "      <th>294359</th>\n",
       "      <td>0.266787</td>\n",
       "      <td>0.879473</td>\n",
       "      <td>0.853325</td>\n",
       "      <td>1.405624</td>\n",
       "      <td>0.621793</td>\n",
       "      <td>0.742703</td>\n",
       "      <td>1.680752</td>\n",
       "      <td>-0.283962</td>\n",
       "      <td>1.672043</td>\n",
       "      <td>1.672192</td>\n",
       "      <td>-0.822662</td>\n",
       "      <td>-0.824901</td>\n",
       "      <td>-0.641039</td>\n",
       "      <td>-0.704391</td>\n",
       "      <td>-0.475387</td>\n",
       "      <td>-1.192740</td>\n",
       "      <td>0.759931</td>\n",
       "      <td>-0.854504</td>\n",
       "      <td>-1.155220</td>\n",
       "    </tr>\n",
       "    <tr>\n",
       "      <th>294365</th>\n",
       "      <td>0.217374</td>\n",
       "      <td>0.740824</td>\n",
       "      <td>0.719224</td>\n",
       "      <td>1.425703</td>\n",
       "      <td>1.086900</td>\n",
       "      <td>0.559461</td>\n",
       "      <td>1.716396</td>\n",
       "      <td>-0.605690</td>\n",
       "      <td>1.709479</td>\n",
       "      <td>1.707403</td>\n",
       "      <td>-0.716211</td>\n",
       "      <td>-0.030746</td>\n",
       "      <td>0.645277</td>\n",
       "      <td>0.013960</td>\n",
       "      <td>0.600050</td>\n",
       "      <td>-0.955423</td>\n",
       "      <td>1.042724</td>\n",
       "      <td>-0.855361</td>\n",
       "      <td>-1.154670</td>\n",
       "    </tr>\n",
       "    <tr>\n",
       "      <th>294371</th>\n",
       "      <td>0.213759</td>\n",
       "      <td>0.710783</td>\n",
       "      <td>0.689423</td>\n",
       "      <td>1.412795</td>\n",
       "      <td>1.147303</td>\n",
       "      <td>0.521772</td>\n",
       "      <td>1.692633</td>\n",
       "      <td>-0.645127</td>\n",
       "      <td>1.687018</td>\n",
       "      <td>1.683929</td>\n",
       "      <td>-0.689842</td>\n",
       "      <td>0.014300</td>\n",
       "      <td>-0.102616</td>\n",
       "      <td>-0.095117</td>\n",
       "      <td>-0.198426</td>\n",
       "      <td>-0.652992</td>\n",
       "      <td>1.254466</td>\n",
       "      <td>-0.856218</td>\n",
       "      <td>-1.154119</td>\n",
       "    </tr>\n",
       "    <tr>\n",
       "      <th>294377</th>\n",
       "      <td>0.166757</td>\n",
       "      <td>0.653013</td>\n",
       "      <td>0.636700</td>\n",
       "      <td>1.352556</td>\n",
       "      <td>1.177505</td>\n",
       "      <td>0.450295</td>\n",
       "      <td>1.588077</td>\n",
       "      <td>-0.670035</td>\n",
       "      <td>1.582198</td>\n",
       "      <td>1.580644</td>\n",
       "      <td>-0.646139</td>\n",
       "      <td>0.519065</td>\n",
       "      <td>-0.328126</td>\n",
       "      <td>0.627259</td>\n",
       "      <td>-0.494435</td>\n",
       "      <td>-0.306058</td>\n",
       "      <td>1.380726</td>\n",
       "      <td>-0.857075</td>\n",
       "      <td>-1.153568</td>\n",
       "    </tr>\n",
       "  </tbody>\n",
       "</table>\n",
       "<p>49063 rows × 19 columns</p>\n",
       "</div>"
      ],
      "text/plain": [
       "        p (mbar)  T (degC)  Tpot (K)  Tdew (degC)    rh (%)  VPmax (mbar)  \\\n",
       "5       0.945308 -1.982473 -2.041888    -1.918973  1.117102     -1.302851   \n",
       "11      0.959770 -2.078372 -2.138166    -2.060964  1.044617     -1.330143   \n",
       "17      0.986284 -2.070284 -2.132435    -2.045187  1.062738     -1.328843   \n",
       "23      1.004362 -2.098014 -2.161090    -2.096820  1.008375     -1.336641   \n",
       "29      1.061006 -2.165028 -2.232152    -2.187178  0.984214     -1.353535   \n",
       "...          ...       ...       ...          ...       ...           ...   \n",
       "294353  0.169167  0.904892  0.886564     1.571997  0.947972      0.776492   \n",
       "294359  0.266787  0.879473  0.853325     1.405624  0.621793      0.742703   \n",
       "294365  0.217374  0.740824  0.719224     1.425703  1.086900      0.559461   \n",
       "294371  0.213759  0.710783  0.689423     1.412795  1.147303      0.521772   \n",
       "294377  0.166757  0.653013  0.636700     1.352556  1.177505      0.450295   \n",
       "\n",
       "        VPact (mbar)  VPdef (mbar)  sh (g/kg)  H2OC (mmol/mol)  rho (g/m**3)  \\\n",
       "5          -1.477323     -0.790424  -1.480036        -1.482697      2.218524   \n",
       "11         -1.534354     -0.786272  -1.536190        -1.539035      2.325708   \n",
       "17         -1.527225     -0.788348  -1.528703        -1.531992      2.323998   \n",
       "23         -1.546235     -0.782121  -1.547420        -1.553119      2.358913   \n",
       "29         -1.579503     -0.782121  -1.581113        -1.585982      2.446320   \n",
       "...              ...           ...        ...              ...           ...   \n",
       "294353      1.984916     -0.493604   1.979016         1.977352     -0.882480   \n",
       "294359      1.680752     -0.283962   1.672043         1.672192     -0.822662   \n",
       "294365      1.716396     -0.605690   1.709479         1.707403     -0.716211   \n",
       "294371      1.692633     -0.645127   1.687018         1.683929     -0.689842   \n",
       "294377      1.588077     -0.670035   1.582198         1.580644     -0.646139   \n",
       "\n",
       "              Wx        Wy    max Wx    max Wy   Day sin   Day cos  Year sin  \\\n",
       "5       0.193409  0.221161  0.111140  0.217928  0.000047  1.414246 -0.062412   \n",
       "11      0.172987  0.222101  0.109458  0.227798  0.366088  1.366061 -0.061389   \n",
       "17      0.207983  0.276266  0.111218  0.324078  0.707185  1.224790 -0.060366   \n",
       "23      0.270343  0.195267  0.246907  0.145176  1.000091  1.000059 -0.059343   \n",
       "29      0.112264  0.350818  0.048640  0.402053  1.224845  0.707185 -0.058320   \n",
       "...          ...       ...       ...       ...       ...       ...       ...   \n",
       "294353 -0.166720 -1.508412 -0.155728 -1.363530 -1.348771  0.425358 -0.853647   \n",
       "294359 -0.824901 -0.641039 -0.704391 -0.475387 -1.192740  0.759931 -0.854504   \n",
       "294365 -0.030746  0.645277  0.013960  0.600050 -0.955423  1.042724 -0.855361   \n",
       "294371  0.014300 -0.102616 -0.095117 -0.198426 -0.652992  1.254466 -0.856218   \n",
       "294377  0.519065 -0.328126  0.627259 -0.494435 -0.306058  1.380726 -0.857075   \n",
       "\n",
       "        Year cos  \n",
       "5       1.428455  \n",
       "11      1.428445  \n",
       "17      1.428434  \n",
       "23      1.428423  \n",
       "29      1.428411  \n",
       "...          ...  \n",
       "294353 -1.155769  \n",
       "294359 -1.155220  \n",
       "294365 -1.154670  \n",
       "294371 -1.154119  \n",
       "294377 -1.153568  \n",
       "\n",
       "[49063 rows x 19 columns]"
      ]
     },
     "execution_count": 21,
     "metadata": {},
     "output_type": "execute_result"
    }
   ],
   "source": [
    "train_df"
   ]
  },
  {
   "cell_type": "code",
   "execution_count": 22,
   "metadata": {},
   "outputs": [
    {
     "data": {
      "text/html": [
       "<div>\n",
       "<style scoped>\n",
       "    .dataframe tbody tr th:only-of-type {\n",
       "        vertical-align: middle;\n",
       "    }\n",
       "\n",
       "    .dataframe tbody tr th {\n",
       "        vertical-align: top;\n",
       "    }\n",
       "\n",
       "    .dataframe thead th {\n",
       "        text-align: right;\n",
       "    }\n",
       "</style>\n",
       "<table border=\"1\" class=\"dataframe\">\n",
       "  <thead>\n",
       "    <tr style=\"text-align: right;\">\n",
       "      <th></th>\n",
       "      <th>p (mbar)</th>\n",
       "      <th>T (degC)</th>\n",
       "      <th>Tpot (K)</th>\n",
       "      <th>Tdew (degC)</th>\n",
       "      <th>rh (%)</th>\n",
       "      <th>VPmax (mbar)</th>\n",
       "      <th>VPact (mbar)</th>\n",
       "      <th>VPdef (mbar)</th>\n",
       "      <th>sh (g/kg)</th>\n",
       "      <th>H2OC (mmol/mol)</th>\n",
       "      <th>rho (g/m**3)</th>\n",
       "      <th>Wx</th>\n",
       "      <th>Wy</th>\n",
       "      <th>max Wx</th>\n",
       "      <th>max Wy</th>\n",
       "      <th>Day sin</th>\n",
       "      <th>Day cos</th>\n",
       "      <th>Year sin</th>\n",
       "      <th>Year cos</th>\n",
       "    </tr>\n",
       "  </thead>\n",
       "  <tbody>\n",
       "    <tr>\n",
       "      <th>294383</th>\n",
       "      <td>0.213759</td>\n",
       "      <td>0.618351</td>\n",
       "      <td>0.597730</td>\n",
       "      <td>1.321003</td>\n",
       "      <td>1.207707</td>\n",
       "      <td>0.407409</td>\n",
       "      <td>1.535799</td>\n",
       "      <td>-0.688716</td>\n",
       "      <td>1.526045</td>\n",
       "      <td>1.526654</td>\n",
       "      <td>-0.601703</td>\n",
       "      <td>0.072253</td>\n",
       "      <td>-0.639008</td>\n",
       "      <td>0.089478</td>\n",
       "      <td>-0.535618</td>\n",
       "      <td>0.061737</td>\n",
       "      <td>1.412901</td>\n",
       "      <td>-0.857930</td>\n",
       "      <td>-1.153016</td>\n",
       "    </tr>\n",
       "    <tr>\n",
       "      <th>294389</th>\n",
       "      <td>0.241478</td>\n",
       "      <td>0.545560</td>\n",
       "      <td>0.523229</td>\n",
       "      <td>1.260764</td>\n",
       "      <td>1.286231</td>\n",
       "      <td>0.321636</td>\n",
       "      <td>1.433619</td>\n",
       "      <td>-0.738532</td>\n",
       "      <td>1.424968</td>\n",
       "      <td>1.423369</td>\n",
       "      <td>-0.526259</td>\n",
       "      <td>0.071987</td>\n",
       "      <td>-0.233849</td>\n",
       "      <td>0.079109</td>\n",
       "      <td>-0.188724</td>\n",
       "      <td>0.425328</td>\n",
       "      <td>1.348797</td>\n",
       "      <td>-0.858786</td>\n",
       "      <td>-1.152463</td>\n",
       "    </tr>\n",
       "    <tr>\n",
       "      <th>294395</th>\n",
       "      <td>0.258351</td>\n",
       "      <td>0.510898</td>\n",
       "      <td>0.487698</td>\n",
       "      <td>1.249290</td>\n",
       "      <td>1.370796</td>\n",
       "      <td>0.282648</td>\n",
       "      <td>1.414609</td>\n",
       "      <td>-0.784197</td>\n",
       "      <td>1.406250</td>\n",
       "      <td>1.404590</td>\n",
       "      <td>-0.490612</td>\n",
       "      <td>-0.459268</td>\n",
       "      <td>0.629912</td>\n",
       "      <td>-0.526513</td>\n",
       "      <td>0.659056</td>\n",
       "      <td>0.759937</td>\n",
       "      <td>1.192783</td>\n",
       "      <td>-0.859641</td>\n",
       "      <td>-1.151910</td>\n",
       "    </tr>\n",
       "    <tr>\n",
       "      <th>294401</th>\n",
       "      <td>0.277634</td>\n",
       "      <td>0.487789</td>\n",
       "      <td>0.463629</td>\n",
       "      <td>1.227776</td>\n",
       "      <td>1.388917</td>\n",
       "      <td>0.256656</td>\n",
       "      <td>1.378964</td>\n",
       "      <td>-0.794575</td>\n",
       "      <td>1.368815</td>\n",
       "      <td>1.367032</td>\n",
       "      <td>-0.463755</td>\n",
       "      <td>-0.086355</td>\n",
       "      <td>-0.297434</td>\n",
       "      <td>-0.068182</td>\n",
       "      <td>-0.229261</td>\n",
       "      <td>1.042760</td>\n",
       "      <td>0.955491</td>\n",
       "      <td>-0.860496</td>\n",
       "      <td>-1.151357</td>\n",
       "    </tr>\n",
       "    <tr>\n",
       "      <th>294407</th>\n",
       "      <td>0.294506</td>\n",
       "      <td>0.502810</td>\n",
       "      <td>0.476236</td>\n",
       "      <td>1.255027</td>\n",
       "      <td>1.413079</td>\n",
       "      <td>0.273551</td>\n",
       "      <td>1.424114</td>\n",
       "      <td>-0.807029</td>\n",
       "      <td>1.413738</td>\n",
       "      <td>1.413979</td>\n",
       "      <td>-0.474987</td>\n",
       "      <td>-0.421783</td>\n",
       "      <td>0.109299</td>\n",
       "      <td>-0.413007</td>\n",
       "      <td>0.139150</td>\n",
       "      <td>1.254524</td>\n",
       "      <td>0.653093</td>\n",
       "      <td>-0.861350</td>\n",
       "      <td>-1.150802</td>\n",
       "    </tr>\n",
       "    <tr>\n",
       "      <th>...</th>\n",
       "      <td>...</td>\n",
       "      <td>...</td>\n",
       "      <td>...</td>\n",
       "      <td>...</td>\n",
       "      <td>...</td>\n",
       "      <td>...</td>\n",
       "      <td>...</td>\n",
       "      <td>...</td>\n",
       "      <td>...</td>\n",
       "      <td>...</td>\n",
       "      <td>...</td>\n",
       "      <td>...</td>\n",
       "      <td>...</td>\n",
       "      <td>...</td>\n",
       "      <td>...</td>\n",
       "      <td>...</td>\n",
       "      <td>...</td>\n",
       "      <td>...</td>\n",
       "      <td>...</td>\n",
       "    </tr>\n",
       "    <tr>\n",
       "      <th>378461</th>\n",
       "      <td>1.447871</td>\n",
       "      <td>-0.708058</td>\n",
       "      <td>-0.814346</td>\n",
       "      <td>-0.543525</td>\n",
       "      <td>0.585551</td>\n",
       "      <td>-0.751825</td>\n",
       "      <td>-0.683646</td>\n",
       "      <td>-0.603614</td>\n",
       "      <td>-0.701375</td>\n",
       "      <td>-0.701017</td>\n",
       "      <td>1.032666</td>\n",
       "      <td>1.972660</td>\n",
       "      <td>1.474668</td>\n",
       "      <td>1.879942</td>\n",
       "      <td>1.333168</td>\n",
       "      <td>-0.707090</td>\n",
       "      <td>-1.224544</td>\n",
       "      <td>1.260457</td>\n",
       "      <td>0.516992</td>\n",
       "    </tr>\n",
       "    <tr>\n",
       "      <th>378467</th>\n",
       "      <td>1.447871</td>\n",
       "      <td>-0.713835</td>\n",
       "      <td>-0.821223</td>\n",
       "      <td>-0.496195</td>\n",
       "      <td>0.730519</td>\n",
       "      <td>-0.755724</td>\n",
       "      <td>-0.645625</td>\n",
       "      <td>-0.643052</td>\n",
       "      <td>-0.667683</td>\n",
       "      <td>-0.665806</td>\n",
       "      <td>1.037061</td>\n",
       "      <td>1.683218</td>\n",
       "      <td>1.168334</td>\n",
       "      <td>1.824204</td>\n",
       "      <td>1.199236</td>\n",
       "      <td>-0.999996</td>\n",
       "      <td>-0.999813</td>\n",
       "      <td>1.260816</td>\n",
       "      <td>0.516049</td>\n",
       "    </tr>\n",
       "    <tr>\n",
       "      <th>378473</th>\n",
       "      <td>1.476795</td>\n",
       "      <td>-0.787781</td>\n",
       "      <td>-0.895723</td>\n",
       "      <td>-0.513406</td>\n",
       "      <td>0.929851</td>\n",
       "      <td>-0.798610</td>\n",
       "      <td>-0.659883</td>\n",
       "      <td>-0.699095</td>\n",
       "      <td>-0.678914</td>\n",
       "      <td>-0.679891</td>\n",
       "      <td>1.116167</td>\n",
       "      <td>1.865699</td>\n",
       "      <td>2.069800</td>\n",
       "      <td>1.642021</td>\n",
       "      <td>1.702072</td>\n",
       "      <td>-1.224751</td>\n",
       "      <td>-0.706939</td>\n",
       "      <td>1.261175</td>\n",
       "      <td>0.515105</td>\n",
       "    </tr>\n",
       "    <tr>\n",
       "      <th>378479</th>\n",
       "      <td>1.503309</td>\n",
       "      <td>-0.765828</td>\n",
       "      <td>-0.875092</td>\n",
       "      <td>-0.489023</td>\n",
       "      <td>0.917770</td>\n",
       "      <td>-0.785615</td>\n",
       "      <td>-0.640873</td>\n",
       "      <td>-0.694943</td>\n",
       "      <td>-0.660196</td>\n",
       "      <td>-0.661111</td>\n",
       "      <td>1.100053</td>\n",
       "      <td>1.818145</td>\n",
       "      <td>1.318900</td>\n",
       "      <td>1.568811</td>\n",
       "      <td>1.089944</td>\n",
       "      <td>-1.366037</td>\n",
       "      <td>-0.365879</td>\n",
       "      <td>1.261533</td>\n",
       "      <td>0.514161</td>\n",
       "    </tr>\n",
       "    <tr>\n",
       "      <th>378485</th>\n",
       "      <td>1.550312</td>\n",
       "      <td>-0.732322</td>\n",
       "      <td>-0.846438</td>\n",
       "      <td>-0.468944</td>\n",
       "      <td>0.863407</td>\n",
       "      <td>-0.766121</td>\n",
       "      <td>-0.624239</td>\n",
       "      <td>-0.678338</td>\n",
       "      <td>-0.645222</td>\n",
       "      <td>-0.644680</td>\n",
       "      <td>1.079788</td>\n",
       "      <td>1.181847</td>\n",
       "      <td>1.316214</td>\n",
       "      <td>1.114608</td>\n",
       "      <td>1.168797</td>\n",
       "      <td>-1.414228</td>\n",
       "      <td>0.000123</td>\n",
       "      <td>1.261890</td>\n",
       "      <td>0.513217</td>\n",
       "    </tr>\n",
       "  </tbody>\n",
       "</table>\n",
       "<p>14018 rows × 19 columns</p>\n",
       "</div>"
      ],
      "text/plain": [
       "        p (mbar)  T (degC)  Tpot (K)  Tdew (degC)    rh (%)  VPmax (mbar)  \\\n",
       "294383  0.213759  0.618351  0.597730     1.321003  1.207707      0.407409   \n",
       "294389  0.241478  0.545560  0.523229     1.260764  1.286231      0.321636   \n",
       "294395  0.258351  0.510898  0.487698     1.249290  1.370796      0.282648   \n",
       "294401  0.277634  0.487789  0.463629     1.227776  1.388917      0.256656   \n",
       "294407  0.294506  0.502810  0.476236     1.255027  1.413079      0.273551   \n",
       "...          ...       ...       ...          ...       ...           ...   \n",
       "378461  1.447871 -0.708058 -0.814346    -0.543525  0.585551     -0.751825   \n",
       "378467  1.447871 -0.713835 -0.821223    -0.496195  0.730519     -0.755724   \n",
       "378473  1.476795 -0.787781 -0.895723    -0.513406  0.929851     -0.798610   \n",
       "378479  1.503309 -0.765828 -0.875092    -0.489023  0.917770     -0.785615   \n",
       "378485  1.550312 -0.732322 -0.846438    -0.468944  0.863407     -0.766121   \n",
       "\n",
       "        VPact (mbar)  VPdef (mbar)  sh (g/kg)  H2OC (mmol/mol)  rho (g/m**3)  \\\n",
       "294383      1.535799     -0.688716   1.526045         1.526654     -0.601703   \n",
       "294389      1.433619     -0.738532   1.424968         1.423369     -0.526259   \n",
       "294395      1.414609     -0.784197   1.406250         1.404590     -0.490612   \n",
       "294401      1.378964     -0.794575   1.368815         1.367032     -0.463755   \n",
       "294407      1.424114     -0.807029   1.413738         1.413979     -0.474987   \n",
       "...              ...           ...        ...              ...           ...   \n",
       "378461     -0.683646     -0.603614  -0.701375        -0.701017      1.032666   \n",
       "378467     -0.645625     -0.643052  -0.667683        -0.665806      1.037061   \n",
       "378473     -0.659883     -0.699095  -0.678914        -0.679891      1.116167   \n",
       "378479     -0.640873     -0.694943  -0.660196        -0.661111      1.100053   \n",
       "378485     -0.624239     -0.678338  -0.645222        -0.644680      1.079788   \n",
       "\n",
       "              Wx        Wy    max Wx    max Wy   Day sin   Day cos  Year sin  \\\n",
       "294383  0.072253 -0.639008  0.089478 -0.535618  0.061737  1.412901 -0.857930   \n",
       "294389  0.071987 -0.233849  0.079109 -0.188724  0.425328  1.348797 -0.858786   \n",
       "294395 -0.459268  0.629912 -0.526513  0.659056  0.759937  1.192783 -0.859641   \n",
       "294401 -0.086355 -0.297434 -0.068182 -0.229261  1.042760  0.955491 -0.860496   \n",
       "294407 -0.421783  0.109299 -0.413007  0.139150  1.254524  0.653093 -0.861350   \n",
       "...          ...       ...       ...       ...       ...       ...       ...   \n",
       "378461  1.972660  1.474668  1.879942  1.333168 -0.707090 -1.224544  1.260457   \n",
       "378467  1.683218  1.168334  1.824204  1.199236 -0.999996 -0.999813  1.260816   \n",
       "378473  1.865699  2.069800  1.642021  1.702072 -1.224751 -0.706939  1.261175   \n",
       "378479  1.818145  1.318900  1.568811  1.089944 -1.366037 -0.365879  1.261533   \n",
       "378485  1.181847  1.316214  1.114608  1.168797 -1.414228  0.000123  1.261890   \n",
       "\n",
       "        Year cos  \n",
       "294383 -1.153016  \n",
       "294389 -1.152463  \n",
       "294395 -1.151910  \n",
       "294401 -1.151357  \n",
       "294407 -1.150802  \n",
       "...          ...  \n",
       "378461  0.516992  \n",
       "378467  0.516049  \n",
       "378473  0.515105  \n",
       "378479  0.514161  \n",
       "378485  0.513217  \n",
       "\n",
       "[14018 rows x 19 columns]"
      ]
     },
     "execution_count": 22,
     "metadata": {},
     "output_type": "execute_result"
    }
   ],
   "source": [
    "val_df"
   ]
  },
  {
   "cell_type": "code",
   "execution_count": 23,
   "metadata": {},
   "outputs": [],
   "source": [
    "BATCH_SIZE = 4\n",
    "\n",
    "train_ds = WindowDataset(\n",
    "    dataframe=train_df, label_columns=['T (degC)'],\n",
    "    input_width=1, label_width=1, shift=1\n",
    ")\n",
    "train_loader = DataLoader(train_ds, batch_size=BATCH_SIZE, shuffle=False)\n",
    "\n",
    "val_ds = WindowDataset(\n",
    "    dataframe=val_df, label_columns=['T (degC)'],\n",
    "    input_width=1, label_width=1, shift=1\n",
    ")\n",
    "val_loader = DataLoader(val_ds, batch_size=BATCH_SIZE, shuffle=False)"
   ]
  },
  {
   "cell_type": "code",
   "execution_count": 24,
   "metadata": {},
   "outputs": [
    {
     "data": {
      "text/plain": [
       "Total window size: 2\n",
       "Input indices: [0]\n",
       "Label indices: [1]\n",
       "Label column name(s): ['T (degC)']"
      ]
     },
     "execution_count": 24,
     "metadata": {},
     "output_type": "execute_result"
    }
   ],
   "source": [
    "train_ds"
   ]
  },
  {
   "cell_type": "code",
   "execution_count": 25,
   "metadata": {},
   "outputs": [
    {
     "name": "stderr",
     "output_type": "stream",
     "text": [
      "100%|██████████| 6133/6133 [00:07<00:00, 778.42it/s]\n"
     ]
    }
   ],
   "source": [
    "for (inputs, label) in tqdm(train_loader):\n",
    "    pass"
   ]
  },
  {
   "cell_type": "code",
   "execution_count": 26,
   "metadata": {},
   "outputs": [
    {
     "name": "stdout",
     "output_type": "stream",
     "text": [
      "torch.Size([4, 1, 19]) torch.Size([4, 1, 1])\n"
     ]
    }
   ],
   "source": [
    "for (inputs, label) in train_loader:\n",
    "    print(inputs.shape, label.shape)\n",
    "    break"
   ]
  },
  {
   "cell_type": "markdown",
   "metadata": {},
   "source": [
    "## Single step models"
   ]
  },
  {
   "cell_type": "code",
   "execution_count": 27,
   "metadata": {},
   "outputs": [],
   "source": [
    "loss = nn.MSELoss()"
   ]
  },
  {
   "cell_type": "markdown",
   "metadata": {},
   "source": [
    "### Baseline"
   ]
  },
  {
   "cell_type": "code",
   "execution_count": 28,
   "metadata": {},
   "outputs": [],
   "source": [
    "class Baseline(nn.Module):\n",
    "    def __init__(self):\n",
    "        super(Baseline, self).__init__()\n",
    "        \n",
    "    def forward(self, x):\n",
    "        return x[:, -1, 1].reshape((x.shape[0], -1, 1))"
   ]
  },
  {
   "cell_type": "code",
   "execution_count": 29,
   "metadata": {},
   "outputs": [],
   "source": [
    "baseline = Baseline()"
   ]
  },
  {
   "cell_type": "code",
   "execution_count": 30,
   "metadata": {},
   "outputs": [
    {
     "name": "stdout",
     "output_type": "stream",
     "text": [
      "tensor([[[-1.9825]],\n",
      "\n",
      "        [[-2.0703]],\n",
      "\n",
      "        [[-2.1650]],\n",
      "\n",
      "        [[-2.1119]]], dtype=torch.float64)\n"
     ]
    }
   ],
   "source": [
    "for (inputs, label) in train_loader:\n",
    "    out = baseline(inputs)\n",
    "    print(out)\n",
    "    break"
   ]
  },
  {
   "cell_type": "code",
   "execution_count": 31,
   "metadata": {},
   "outputs": [
    {
     "name": "stderr",
     "output_type": "stream",
     "text": [
      "Loss 0.01313: 100%|██████████| 1753/1753 [00:02<00:00, 762.26it/s]\n"
     ]
    }
   ],
   "source": [
    "running_loss = 0\n",
    "pbar = tqdm(val_loader)\n",
    "with torch.no_grad():\n",
    "    for i, (inputs, label) in enumerate(pbar):\n",
    "        out = baseline(inputs)\n",
    "        running_loss += loss(out, label)  # MSE per batch\n",
    "        if not (i % 100):\n",
    "            pbar.set_description(f\"Loss {running_loss / (i+1):.5f}\")"
   ]
  },
  {
   "cell_type": "code",
   "execution_count": 32,
   "metadata": {},
   "outputs": [
    {
     "data": {
      "image/png": "[encoded data removed]",
      "text/plain": [
       "<Figure size 864x360 with 1 Axes>"
      ]
     },
     "metadata": {
      "needs_background": "light"
     },
     "output_type": "display_data"
    }
   ],
   "source": [
    "targets = []\n",
    "outputs = []\n",
    "\n",
    "for i in range(24):\n",
    "    targets.append(float(val_ds[i][1].squeeze()))\n",
    "    outputs.append(baseline(val_ds[i][0][None, :]).squeeze())\n",
    "\n",
    "plt.figure(figsize=(12, 5))\n",
    "plt.plot(targets, \"xr-\", label=\"Targets\")\n",
    "plt.plot(outputs, \"ok\", label=\"Prediction\")\n",
    "plt.legend()\n",
    "plt.show()"
   ]
  },
  {
   "cell_type": "markdown",
   "metadata": {},
   "source": [
    "### Linear model"
   ]
  },
  {
   "cell_type": "code",
   "execution_count": 33,
   "metadata": {},
   "outputs": [],
   "source": [
    "class Linear(nn.Module):\n",
    "    def __init__(self):\n",
    "        super(Linear, self).__init__()\n",
    "        self.dense = nn.Linear(19, 1)\n",
    "        \n",
    "    def forward(self, x):\n",
    "        return self.dense(x)\n",
    "\n",
    "linear = Linear()"
   ]
  },
  {
   "cell_type": "code",
   "execution_count": 34,
   "metadata": {},
   "outputs": [
    {
     "name": "stdout",
     "output_type": "stream",
     "text": [
      "tensor([[[-0.2147]],\n",
      "\n",
      "        [[-0.1048]],\n",
      "\n",
      "        [[-0.0893]],\n",
      "\n",
      "        [[-0.0659]]], grad_fn=<AddBackward0>)\n"
     ]
    }
   ],
   "source": [
    "for (inputs, label) in train_loader:\n",
    "    out = linear(inputs.float())\n",
    "    print(out)\n",
    "    break"
   ]
  },
  {
   "cell_type": "code",
   "execution_count": 35,
   "metadata": {},
   "outputs": [
    {
     "name": "stderr",
     "output_type": "stream",
     "text": [
      "  0%|          | 0/6133 [00:00<?, ?it/s]/home/khazit/Documents/ML/BatteryProbe.ai/.venv/lib/python3.7/site-packages/torch/autograd/__init__.py:132: UserWarning: CUDA initialization: Found no NVIDIA driver on your system. Please check that you have an NVIDIA GPU and installed a driver from http://www.nvidia.com/Download/index.aspx (Triggered internally at  /pytorch/c10/cuda/CUDAFunctions.cpp:100.)\n",
      "  allow_unreachable=True)  # allow_unreachable flag\n",
      "Epoch #1 - Loss = 0.01463: 100%|██████████| 6133/6133 [00:10<00:00, 607.77it/s]\n",
      "Epoch #2 - Loss = 0.00927: 100%|██████████| 6133/6133 [00:09<00:00, 645.30it/s]\n",
      "Epoch #3 - Loss = 0.00910: 100%|██████████| 6133/6133 [00:09<00:00, 675.20it/s]\n"
     ]
    },
    {
     "data": {
      "image/png": "[encoded data removed]",
      "text/plain": [
       "<Figure size 432x288 with 1 Axes>"
      ]
     },
     "metadata": {
      "needs_background": "light"
     },
     "output_type": "display_data"
    }
   ],
   "source": [
    "N_EPOCHS = 3\n",
    "\n",
    "criterion = nn.MSELoss()\n",
    "optimizer = optim.SGD(linear.parameters(), lr=1e-3, momentum=0.9)\n",
    "\n",
    "history = []\n",
    "for epoch in range(N_EPOCHS):\n",
    "    running_loss = 0\n",
    "    pbar = tqdm(train_loader)\n",
    "    for i, (inputs, label) in enumerate(pbar):\n",
    "        optimizer.zero_grad()\n",
    "        outputs = linear(inputs.float())\n",
    "        loss = criterion(outputs, label.float())\n",
    "        loss.backward()\n",
    "        optimizer.step()\n",
    "        \n",
    "        running_loss += loss.item()\n",
    "        if not (i % 100):\n",
    "            pbar.set_description(\n",
    "                f\"Epoch #{epoch+1} - Loss = {running_loss / (i+1):.5f}\"\n",
    "            )\n",
    "            history.append(running_loss / (i+1))\n",
    "\n",
    "plt.plot(history)\n",
    "plt.show()"
   ]
  },
  {
   "cell_type": "code",
   "execution_count": 36,
   "metadata": {},
   "outputs": [
    {
     "name": "stderr",
     "output_type": "stream",
     "text": [
      "Loss 0.01037: 100%|██████████| 1753/1753 [00:02<00:00, 830.11it/s]\n"
     ]
    }
   ],
   "source": [
    "loss = nn.MSELoss()\n",
    "running_loss = 0\n",
    "pbar = tqdm(val_loader)\n",
    "with torch.no_grad():\n",
    "    for i, (inputs, label) in enumerate(pbar):\n",
    "        out = linear(inputs.float())\n",
    "        running_loss += loss(out, label.float())  # MSE per batch\n",
    "        if not (i % 100):\n",
    "            pbar.set_description(f\"Loss {running_loss / (i+1):.5f}\")"
   ]
  },
  {
   "cell_type": "code",
   "execution_count": 37,
   "metadata": {},
   "outputs": [
    {
     "data": {
      "image/png": "[encoded data removed]",
      "text/plain": [
       "<Figure size 864x360 with 1 Axes>"
      ]
     },
     "metadata": {
      "needs_background": "light"
     },
     "output_type": "display_data"
    }
   ],
   "source": [
    "targets = []\n",
    "outputs = []\n",
    "for i in range(24):\n",
    "    outputs.append(linear(torch.Tensor(val_ds[i][0])))\n",
    "    targets.append(val_ds[i][1].squeeze())\n",
    "\n",
    "plt.figure(figsize=(12, 5))\n",
    "plt.plot(targets, \"xr-\", label=\"Targets\")\n",
    "plt.plot(outputs, \"ok\", label=\"Prediction\")\n",
    "plt.legend()\n",
    "plt.show()"
   ]
  },
  {
   "cell_type": "code",
   "execution_count": 38,
   "metadata": {},
   "outputs": [
    {
     "data": {
      "image/png": "[encoded data removed]",
      "text/plain": [
       "<Figure size 432x288 with 1 Axes>"
      ]
     },
     "metadata": {
      "needs_background": "light"
     },
     "output_type": "display_data"
    }
   ],
   "source": [
    "plt.bar(x = range(len(train_df.columns)),\n",
    "        height=list(linear.parameters())[0].data.squeeze().numpy())\n",
    "axis = plt.gca()\n",
    "axis.set_xticks(range(len(train_df.columns)))\n",
    "_ = axis.set_xticklabels(train_df.columns, rotation=90)"
   ]
  },
  {
   "cell_type": "markdown",
   "metadata": {},
   "source": [
    "> Sometimes the model doesn't even place the most weight on the input T (degC). This is one of the risks of random initialization. "
   ]
  },
  {
   "cell_type": "markdown",
   "metadata": {},
   "source": [
    "### Dense"
   ]
  },
  {
   "cell_type": "code",
   "execution_count": 39,
   "metadata": {},
   "outputs": [
    {
     "name": "stdout",
     "output_type": "stream",
     "text": [
      "tensor([[[0.1808]],\n",
      "\n",
      "        [[0.1875]],\n",
      "\n",
      "        [[0.1901]],\n",
      "\n",
      "        [[0.2620]]], grad_fn=<AddBackward0>)\n"
     ]
    }
   ],
   "source": [
    "class Dense(nn.Module):\n",
    "    def __init__(self):\n",
    "        super(Dense, self).__init__()\n",
    "        self.dense1 = nn.Linear(19, 64)\n",
    "        self.dense2 = nn.Linear(64, 64)\n",
    "        self.dense3 = nn.Linear(64, 1)\n",
    "        \n",
    "    def forward(self, x):\n",
    "        res = self.dense1(x)\n",
    "        res = F.relu(res)\n",
    "        res = self.dense2(res)\n",
    "        res = F.relu(res)\n",
    "        return self.dense3(res)\n",
    "\n",
    "dense = Dense()\n",
    "\n",
    "for (inputs, label) in train_loader:\n",
    "    out = dense(inputs.float())\n",
    "    print(out)\n",
    "    break"
   ]
  },
  {
   "cell_type": "code",
   "execution_count": 40,
   "metadata": {},
   "outputs": [
    {
     "name": "stderr",
     "output_type": "stream",
     "text": [
      "Epoch #1 - Loss = 0.02297: 100%|██████████| 6133/6133 [00:11<00:00, 540.55it/s]\n",
      "Epoch #2 - Loss = 0.00893: 100%|██████████| 6133/6133 [00:11<00:00, 545.07it/s]\n",
      "Epoch #3 - Loss = 0.00834: 100%|██████████| 6133/6133 [00:12<00:00, 485.93it/s]\n",
      "Epoch #4 - Loss = 0.00802: 100%|██████████| 6133/6133 [00:13<00:00, 459.50it/s]\n",
      "Epoch #5 - Loss = 0.00781: 100%|██████████| 6133/6133 [00:12<00:00, 492.45it/s]\n",
      "Epoch #6 - Loss = 0.00765: 100%|██████████| 6133/6133 [00:11<00:00, 548.22it/s]\n",
      "Epoch #7 - Loss = 0.00752: 100%|██████████| 6133/6133 [00:12<00:00, 503.37it/s]\n",
      "Epoch #8 - Loss = 0.00742: 100%|██████████| 6133/6133 [00:11<00:00, 539.80it/s]\n",
      "Epoch #9 - Loss = 0.00733: 100%|██████████| 6133/6133 [00:11<00:00, 538.86it/s]\n",
      "Epoch #10 - Loss = 0.00726: 100%|██████████| 6133/6133 [00:12<00:00, 506.74it/s]\n"
     ]
    },
    {
     "data": {
      "image/png": "[encoded data removed]",
      "text/plain": [
       "<Figure size 432x288 with 1 Axes>"
      ]
     },
     "metadata": {
      "needs_background": "light"
     },
     "output_type": "display_data"
    }
   ],
   "source": [
    "N_EPOCHS = 10\n",
    "\n",
    "criterion = nn.MSELoss()\n",
    "optimizer = optim.SGD(dense.parameters(), lr=1e-3, momentum=0.9)\n",
    "\n",
    "history = []\n",
    "for epoch in range(N_EPOCHS):\n",
    "    running_loss = 0\n",
    "    pbar = tqdm(train_loader)\n",
    "    for i, (inputs, label) in enumerate(pbar):\n",
    "        optimizer.zero_grad()\n",
    "        outputs = dense(inputs.float())\n",
    "        loss = criterion(outputs, label.float())\n",
    "        loss.backward()\n",
    "        optimizer.step()\n",
    "        \n",
    "        running_loss += loss.item()\n",
    "        if not (i % 100):\n",
    "            pbar.set_description(\n",
    "                f\"Epoch #{epoch+1} - Loss = {running_loss / (i+1):.5f}\"\n",
    "            )\n",
    "            history.append(running_loss / (i+1))\n",
    "\n",
    "plt.plot(history)\n",
    "plt.show()"
   ]
  },
  {
   "cell_type": "code",
   "execution_count": 41,
   "metadata": {},
   "outputs": [
    {
     "name": "stderr",
     "output_type": "stream",
     "text": [
      "Loss 0.00734: 100%|██████████| 1753/1753 [00:02<00:00, 775.32it/s]\n"
     ]
    }
   ],
   "source": [
    "loss = nn.MSELoss()\n",
    "running_loss = 0\n",
    "pbar = tqdm(val_loader)\n",
    "with torch.no_grad():\n",
    "    for i, (inputs, label) in enumerate(pbar):\n",
    "        out = dense(inputs.float())\n",
    "        running_loss += loss(out, label.float())  # MSE per batch\n",
    "        if not (i % 100):\n",
    "            pbar.set_description(f\"Loss {running_loss / (i+1):.5f}\")"
   ]
  },
  {
   "cell_type": "code",
   "execution_count": 42,
   "metadata": {},
   "outputs": [
    {
     "data": {
      "image/png": "[encoded data removed]",
      "text/plain": [
       "<Figure size 864x360 with 1 Axes>"
      ]
     },
     "metadata": {
      "needs_background": "light"
     },
     "output_type": "display_data"
    }
   ],
   "source": [
    "targets = []\n",
    "outputs = []\n",
    "for i in range(24):\n",
    "    outputs.append(dense(torch.Tensor(val_ds[i][0])))\n",
    "    targets.append(val_ds[i][1].squeeze())\n",
    "\n",
    "plt.figure(figsize=(12, 5))\n",
    "plt.plot(targets, \"xr-\", label=\"Targets\")\n",
    "plt.plot(outputs, \"ok\", label=\"Prediction\")\n",
    "plt.legend()\n",
    "plt.show()"
   ]
  },
  {
   "cell_type": "markdown",
   "metadata": {},
   "source": [
    "### Multi-step dense (Peut être pas bon ?)"
   ]
  },
  {
   "cell_type": "code",
   "execution_count": 85,
   "metadata": {},
   "outputs": [],
   "source": [
    "BATCH_SIZE = 4\n",
    "N_TIMESTEPS = 3\n",
    "\n",
    "train_ds = WindowDataset(\n",
    "    dataframe=train_df, label_columns=['T (degC)'],\n",
    "    input_width=N_TIMESTEPS, label_width=1, shift=1\n",
    ")\n",
    "train_loader = DataLoader(train_ds, batch_size=BATCH_SIZE, shuffle=False)\n",
    "\n",
    "val_ds = WindowDataset(\n",
    "    dataframe=val_df, label_columns=['T (degC)'],\n",
    "    input_width=N_TIMESTEPS, label_width=1, shift=1\n",
    ")\n",
    "val_loader = DataLoader(val_ds, batch_size=BATCH_SIZE, shuffle=False)"
   ]
  },
  {
   "cell_type": "code",
   "execution_count": 86,
   "metadata": {},
   "outputs": [
    {
     "name": "stdout",
     "output_type": "stream",
     "text": [
      "torch.Size([4, 3, 19]) torch.Size([4, 1, 1])\n"
     ]
    }
   ],
   "source": [
    "for (inputs, label) in train_loader:\n",
    "    print(inputs.shape, label.shape)\n",
    "    break"
   ]
  },
  {
   "cell_type": "code",
   "execution_count": 45,
   "metadata": {},
   "outputs": [
    {
     "data": {
      "image/png": "[encoded data removed]",
      "text/plain": [
       "<Figure size 432x288 with 1 Axes>"
      ]
     },
     "metadata": {
      "needs_background": "light"
     },
     "output_type": "display_data"
    }
   ],
   "source": [
    "plt.plot(np.arange(0, N_TIMESTEPS, 1), train_ds[0][0][:, 1], \"ko-\", label=\"Inputs\")\n",
    "plt.plot(N_TIMESTEPS, train_ds[0][1], \"rx\", label=\"Targets\")\n",
    "plt.legend()\n",
    "plt.show()"
   ]
  },
  {
   "cell_type": "code",
   "execution_count": 46,
   "metadata": {},
   "outputs": [
    {
     "name": "stdout",
     "output_type": "stream",
     "text": [
      "tensor([[[-0.1039]],\n",
      "\n",
      "        [[-0.0783]],\n",
      "\n",
      "        [[-0.0729]],\n",
      "\n",
      "        [[-0.0523]]], grad_fn=<UnsqueezeBackward0>)\n"
     ]
    }
   ],
   "source": [
    "class MultiDense(nn.Module):\n",
    "    def __init__(self, n_timesteps):\n",
    "        super(MultiDense, self).__init__()\n",
    "        self.dense1 = nn.Linear(19*n_timesteps, 32)\n",
    "        self.dense2 = nn.Linear(32, 32)\n",
    "        self.dense3 = nn.Linear(32, 1)\n",
    "        \n",
    "    def forward(self, x):\n",
    "        res = x.reshape((x.shape[0], -1))\n",
    "        res = self.dense1(res)\n",
    "        res = F.relu(res)\n",
    "        res = self.dense2(res)\n",
    "        res = F.relu(res)\n",
    "        return self.dense3(res)[:, None]\n",
    "\n",
    "multidense = MultiDense(N_TIMESTEPS)\n",
    "\n",
    "for (inputs, label) in train_loader:\n",
    "    out = multidense(inputs.float())\n",
    "    print(out)\n",
    "    break"
   ]
  },
  {
   "cell_type": "code",
   "execution_count": 47,
   "metadata": {},
   "outputs": [
    {
     "name": "stderr",
     "output_type": "stream",
     "text": [
      "Epoch #1 - Loss = 0.04058: 100%|██████████| 3067/3067 [00:05<00:00, 553.58it/s]\n",
      "Epoch #2 - Loss = 0.01237: 100%|██████████| 3067/3067 [00:05<00:00, 550.65it/s]\n",
      "Epoch #3 - Loss = 0.00999: 100%|██████████| 3067/3067 [00:05<00:00, 555.72it/s]\n",
      "Epoch #4 - Loss = 0.00891: 100%|██████████| 3067/3067 [00:06<00:00, 509.04it/s]\n",
      "Epoch #5 - Loss = 0.00830: 100%|██████████| 3067/3067 [00:06<00:00, 501.31it/s]\n"
     ]
    },
    {
     "data": {
      "image/png": "[encoded data removed]",
      "text/plain": [
       "<Figure size 432x288 with 1 Axes>"
      ]
     },
     "metadata": {
      "needs_background": "light"
     },
     "output_type": "display_data"
    }
   ],
   "source": [
    "N_EPOCHS = 5\n",
    "\n",
    "criterion = nn.MSELoss()\n",
    "optimizer = optim.SGD(multidense.parameters(), lr=1e-3, momentum=0.9)\n",
    "\n",
    "history = []\n",
    "for epoch in range(N_EPOCHS):\n",
    "    running_loss = 0\n",
    "    pbar = tqdm(train_loader)\n",
    "    for i, (inputs, label) in enumerate(pbar):\n",
    "        optimizer.zero_grad()\n",
    "        outputs = multidense(inputs.float())\n",
    "        loss = criterion(outputs, label.float())\n",
    "        loss.backward()\n",
    "        optimizer.step()\n",
    "        \n",
    "        running_loss += loss.item()\n",
    "        if not (i % 100):\n",
    "            pbar.set_description(\n",
    "                f\"Epoch #{epoch+1} - Loss = {running_loss / (i+1):.5f}\"\n",
    "            )\n",
    "            history.append(running_loss / (i+1))\n",
    "\n",
    "plt.plot(history)\n",
    "plt.show()"
   ]
  },
  {
   "cell_type": "code",
   "execution_count": 48,
   "metadata": {},
   "outputs": [
    {
     "name": "stderr",
     "output_type": "stream",
     "text": [
      "Loss 0.00798: 100%|██████████| 876/876 [00:01<00:00, 605.49it/s]\n"
     ]
    }
   ],
   "source": [
    "loss = nn.MSELoss()\n",
    "running_loss = 0\n",
    "pbar = tqdm(val_loader)\n",
    "with torch.no_grad():\n",
    "    for i, (inputs, label) in enumerate(pbar):\n",
    "        out = multidense(inputs.float())\n",
    "        running_loss += loss(out, label.float())  # MSE per batch\n",
    "        if not (i % 100):\n",
    "            pbar.set_description(f\"Loss {running_loss / (i+1):.5f}\")\n",
    "\n",
    "for i in range(25, 29):\n",
    "    out = multidense(torch.Tensor(val_ds[i][0])[None, :]).detach().numpy().squeeze()\n",
    "    plt.plot(np.arange(0, N_TIMESTEPS, 1), val_ds[i][0][:, 1], \"ko-\", label=\"Inputs\")\n",
    "    plt.plot(N_TIMESTEPS, val_ds[i][1], \"rx\", label=\"Targets\")\n",
    "    plt.plot(N_TIMESTEPS, out, \"bs\", label=\"Prediction\")\n",
    "    plt.legend()\n",
    "    plt.show()"
   ]
  },
  {
   "cell_type": "markdown",
   "metadata": {},
   "source": [
    "### CNN "
   ]
  },
  {
   "cell_type": "code",
   "execution_count": 87,
   "metadata": {},
   "outputs": [
    {
     "name": "stdout",
     "output_type": "stream",
     "text": [
      "tensor([[[-0.1504]],\n",
      "\n",
      "        [[-0.2231]],\n",
      "\n",
      "        [[-0.2886]],\n",
      "\n",
      "        [[-0.0872]]], grad_fn=<UnsqueezeBackward0>)\n"
     ]
    }
   ],
   "source": [
    "class Conv(nn.Module):\n",
    "    def __init__(self, n_timesteps):\n",
    "        super(Conv, self).__init__()\n",
    "        self.conv = nn.Conv1d(19, 32, (N_TIMESTEPS,))\n",
    "        self.dense1 = nn.Linear(32, 32)\n",
    "        self.dense2 = nn.Linear(32, 1)\n",
    "        \n",
    "    def forward(self, x):\n",
    "        x = x.permute(0, 2, 1)\n",
    "        res = self.conv(x).squeeze()\n",
    "        res = F.relu(res)\n",
    "        res = self.dense1(res)\n",
    "        res = F.relu(res)\n",
    "        return self.dense2(res)[:, None]\n",
    "\n",
    "conv = Conv(N_TIMESTEPS)\n",
    "\n",
    "for (inputs, label) in train_loader:\n",
    "    out = conv(inputs.float())\n",
    "    print(out)\n",
    "    break"
   ]
  },
  {
   "cell_type": "code",
   "execution_count": 88,
   "metadata": {},
   "outputs": [
    {
     "name": "stderr",
     "output_type": "stream",
     "text": [
      "Epoch #1 - Loss = 0.03593:  99%|█████████▉| 3047/3067 [00:07<00:00, 443.08it/s]/home/khazit/Documents/ML/BatteryProbe.ai/.venv/lib/python3.7/site-packages/torch/nn/modules/loss.py:446: UserWarning: Using a target size (torch.Size([1, 1, 1])) that is different to the input size (torch.Size([1, 1])). This will likely lead to incorrect results due to broadcasting. Please ensure they have the same size.\n",
      "  return F.mse_loss(input, target, reduction=self.reduction)\n",
      "Epoch #1 - Loss = 0.03593: 100%|██████████| 3067/3067 [00:07<00:00, 413.68it/s]\n",
      "Epoch #2 - Loss = 0.01174: 100%|██████████| 3067/3067 [00:08<00:00, 349.39it/s]\n",
      "Epoch #3 - Loss = 0.00972: 100%|██████████| 3067/3067 [00:08<00:00, 374.43it/s]\n",
      "Epoch #4 - Loss = 0.00869: 100%|██████████| 3067/3067 [00:08<00:00, 362.98it/s]\n",
      "Epoch #5 - Loss = 0.00812: 100%|██████████| 3067/3067 [00:07<00:00, 419.04it/s]\n",
      "Epoch #6 - Loss = 0.00775: 100%|██████████| 3067/3067 [00:07<00:00, 411.99it/s]\n",
      "Epoch #7 - Loss = 0.00750: 100%|██████████| 3067/3067 [00:07<00:00, 392.32it/s]\n",
      "Epoch #8 - Loss = 0.00733: 100%|██████████| 3067/3067 [00:07<00:00, 396.05it/s]\n",
      "Epoch #9 - Loss = 0.00719: 100%|██████████| 3067/3067 [00:07<00:00, 404.45it/s]\n",
      "Epoch #10 - Loss = 0.00709: 100%|██████████| 3067/3067 [00:07<00:00, 389.72it/s]\n"
     ]
    },
    {
     "data": {
      "image/png": "[encoded data removed]",
      "text/plain": [
       "<Figure size 432x288 with 1 Axes>"
      ]
     },
     "metadata": {
      "needs_background": "light"
     },
     "output_type": "display_data"
    }
   ],
   "source": [
    "N_EPOCHS = 10\n",
    "\n",
    "criterion = nn.MSELoss()\n",
    "optimizer = optim.SGD(conv.parameters(), lr=1e-3, momentum=0.9)\n",
    "\n",
    "history = []\n",
    "for epoch in range(N_EPOCHS):\n",
    "    running_loss = 0\n",
    "    pbar = tqdm(train_loader)\n",
    "    for i, (inputs, label) in enumerate(pbar):\n",
    "        optimizer.zero_grad()\n",
    "        outputs = conv(inputs.float())\n",
    "        loss = criterion(outputs, label.float())\n",
    "        loss.backward()\n",
    "        optimizer.step()\n",
    "        \n",
    "        running_loss += loss.item()\n",
    "        if not (i % 100):\n",
    "            pbar.set_description(\n",
    "                f\"Epoch #{epoch+1} - Loss = {running_loss / (i+1):.5f}\"\n",
    "            )\n",
    "            history.append(running_loss / (i+1))\n",
    "\n",
    "plt.plot(history)\n",
    "plt.show()"
   ]
  },
  {
   "cell_type": "code",
   "execution_count": 89,
   "metadata": {},
   "outputs": [
    {
     "name": "stderr",
     "output_type": "stream",
     "text": [
      "Loss 0.00757: 100%|██████████| 876/876 [00:01<00:00, 539.44it/s]\n"
     ]
    },
    {
     "data": {
      "image/png": "[encoded data removed]",
      "text/plain": [
       "<Figure size 432x288 with 1 Axes>"
      ]
     },
     "metadata": {
      "needs_background": "light"
     },
     "output_type": "display_data"
    },
    {
     "data": {
      "image/png": "[encoded data removed]",
      "text/plain": [
       "<Figure size 432x288 with 1 Axes>"
      ]
     },
     "metadata": {
      "needs_background": "light"
     },
     "output_type": "display_data"
    },
    {
     "data": {
      "image/png": "[encoded data removed]",
      "text/plain": [
       "<Figure size 432x288 with 1 Axes>"
      ]
     },
     "metadata": {
      "needs_background": "light"
     },
     "output_type": "display_data"
    },
    {
     "data": {
      "image/png": "[encoded data removed]",
      "text/plain": [
       "<Figure size 432x288 with 1 Axes>"
      ]
     },
     "metadata": {
      "needs_background": "light"
     },
     "output_type": "display_data"
    }
   ],
   "source": [
    "loss = nn.MSELoss()\n",
    "running_loss = 0\n",
    "pbar = tqdm(val_loader)\n",
    "with torch.no_grad():\n",
    "    for i, (inputs, label) in enumerate(pbar):\n",
    "        out = conv(inputs.float())\n",
    "        running_loss += loss(out, label.float())  # MSE per batch\n",
    "        if not (i % 100):\n",
    "            pbar.set_description(f\"Loss {running_loss / (i+1):.5f}\")\n",
    "\n",
    "for i in range(25, 29):\n",
    "    out = conv(torch.Tensor(val_ds[i][0])[None, :]).detach().numpy().squeeze()\n",
    "    plt.plot(np.arange(0, N_TIMESTEPS, 1), val_ds[i][0][:, 1], \"ko-\", label=\"Inputs\")\n",
    "    plt.plot(N_TIMESTEPS, val_ds[i][1], \"rx\", label=\"Targets\")\n",
    "    plt.plot(N_TIMESTEPS, out, \"bs\", label=\"Prediction\")\n",
    "    plt.legend()\n",
    "    plt.show()"
   ]
  }
 ],
 "metadata": {
  "kernelspec": {
   "display_name": "Python 3",
   "language": "python",
   "name": "python3"
  },
  "language_info": {
   "codemirror_mode": {
    "name": "ipython",
    "version": 3
   },
   "file_extension": ".py",
   "mimetype": "text/x-python",
   "name": "python",
   "nbconvert_exporter": "python",
   "pygments_lexer": "ipython3",
   "version": "3.7.5"
  }
 },
 "nbformat": 4,
 "nbformat_minor": 4
}
